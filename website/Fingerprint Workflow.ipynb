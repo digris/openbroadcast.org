{
 "cells": [
  {
   "cell_type": "markdown",
   "metadata": {
    "collapsed": true
   },
   "source": [
    "# fingerprinting workflow"
   ]
  },
  {
   "cell_type": "code",
   "execution_count": 1,
   "metadata": {},
   "outputs": [
    {
     "data": {
      "text/plain": [
       "True"
      ]
     },
     "execution_count": 1,
     "metadata": {},
     "output_type": "execute_result"
    }
   ],
   "source": [
    "import os\n",
    "path = '/Users/ohrstrom/Desktop/__obp/01_melody.mp3'\n",
    "\n",
    "os.path.isfile(path)"
   ]
  },
  {
   "cell_type": "code",
   "execution_count": 8,
   "metadata": {},
   "outputs": [
    {
     "name": "stderr",
     "output_type": "stream",
     "text": [
      "\u001b[36m599 alibrary.models.mediamodels DEBUG    update echoprint, using binary: /usr/local/bin/echoprint-codegen\u001b[0m\n",
      "\u001b[36m609 alibrary.models.mediamodels DEBUG    update echoprint: /Users/ohrstrom/Documents/Code/openbroadcast.org/website/media/private/42f001a0/bb23/49e0/99be/0fb77d1ddcd2/master.mp3\u001b[0m\n",
      "\u001b[01;32m673 alibrary.models.mediamodels INFO     successfully ingested fingerprint for 389064\u001b[0m\n",
      "\u001b[36m43  media_asset.models       DEBUG    waveform - get or create for media: Die Seemannstruhe w (created: False)\u001b[0m\n",
      "\u001b[36m182 media_asset.models       DEBUG    version - get or create for media: Die Seemannstruhe mp3 default (created: False)\u001b[0m\n"
     ]
    },
    {
     "name": "stdout",
     "output_type": "stream",
     "text": [
      "updated index for Die Seemannstruhe\n"
     ]
    },
    {
     "name": "stderr",
     "output_type": "stream",
     "text": [
      "\u001b[36m599 alibrary.models.mediamodels DEBUG    update echoprint, using binary: /usr/local/bin/echoprint-codegen\u001b[0m\n",
      "\u001b[36m609 alibrary.models.mediamodels DEBUG    update echoprint: /Users/ohrstrom/Documents/Code/openbroadcast.org/website/media/private/0321e3b1/2b4f/4675/a7ea/636a106aea1f/master.mp3\u001b[0m\n",
      "\u001b[01;32m673 alibrary.models.mediamodels INFO     successfully ingested fingerprint for 389056\u001b[0m\n",
      "\u001b[36m43  media_asset.models       DEBUG    waveform - get or create for media: Ein Hilferuf w (created: False)\u001b[0m\n",
      "\u001b[36m182 media_asset.models       DEBUG    version - get or create for media: Ein Hilferuf mp3 default (created: False)\u001b[0m\n",
      "\u001b[36m599 alibrary.models.mediamodels DEBUG    update echoprint, using binary: /usr/local/bin/echoprint-codegen\u001b[0m\n",
      "\u001b[36m609 alibrary.models.mediamodels DEBUG    update echoprint: /Users/ohrstrom/Documents/Code/openbroadcast.org/website/media/private/85c76403/7502/4499/9b10/dbd33bab1159/master.mp3\u001b[0m\n"
     ]
    },
    {
     "name": "stdout",
     "output_type": "stream",
     "text": [
      "updated index for Ein Hilferuf\n"
     ]
    },
    {
     "name": "stderr",
     "output_type": "stream",
     "text": [
      "\u001b[01;32m673 alibrary.models.mediamodels INFO     successfully ingested fingerprint for 389055\u001b[0m\n",
      "\u001b[36m43  media_asset.models       DEBUG    waveform - get or create for media: In the City (12\" version) w (created: False)\u001b[0m\n",
      "\u001b[36m182 media_asset.models       DEBUG    version - get or create for media: In the City (12\" version) mp3 default (created: False)\u001b[0m\n",
      "\u001b[36m599 alibrary.models.mediamodels DEBUG    update echoprint, using binary: /usr/local/bin/echoprint-codegen\u001b[0m\n",
      "\u001b[36m609 alibrary.models.mediamodels DEBUG    update echoprint: /Users/ohrstrom/Documents/Code/openbroadcast.org/website/media/private/2e294c03/e67b/4780/bf01/7131f5094802/master.flac\u001b[0m\n"
     ]
    },
    {
     "name": "stdout",
     "output_type": "stream",
     "text": [
      "updated index for In the City (12\" version)\n"
     ]
    },
    {
     "name": "stderr",
     "output_type": "stream",
     "text": [
      "\u001b[01;32m673 alibrary.models.mediamodels INFO     successfully ingested fingerprint for 389079\u001b[0m\n",
      "\u001b[36m43  media_asset.models       DEBUG    waveform - get or create for media: Speak to Me / Breathe w (created: False)\u001b[0m\n",
      "\u001b[36m182 media_asset.models       DEBUG    version - get or create for media: Speak to Me / Breathe mp3 default (created: False)\u001b[0m\n",
      "\u001b[36m599 alibrary.models.mediamodels DEBUG    update echoprint, using binary: /usr/local/bin/echoprint-codegen\u001b[0m\n",
      "\u001b[36m609 alibrary.models.mediamodels DEBUG    update echoprint: /Users/ohrstrom/Documents/Code/openbroadcast.org/website/media/private/f2fbf0df/795d/42ef/869d/d05e1376fea2/master.flac\u001b[0m\n"
     ]
    },
    {
     "name": "stdout",
     "output_type": "stream",
     "text": [
      "updated index for Speak to Me / Breathe\n"
     ]
    },
    {
     "name": "stderr",
     "output_type": "stream",
     "text": [
      "\u001b[01;32m673 alibrary.models.mediamodels INFO     successfully ingested fingerprint for 389086\u001b[0m\n",
      "\u001b[36m43  media_asset.models       DEBUG    waveform - get or create for media: Speak to Me / Breathe w (created: False)\u001b[0m\n",
      "\u001b[36m182 media_asset.models       DEBUG    version - get or create for media: Speak to Me / Breathe mp3 default (created: False)\u001b[0m\n",
      "\u001b[36m599 alibrary.models.mediamodels DEBUG    update echoprint, using binary: /usr/local/bin/echoprint-codegen\u001b[0m\n",
      "\u001b[36m609 alibrary.models.mediamodels DEBUG    update echoprint: /Users/ohrstrom/Documents/Code/openbroadcast.org/website/media/private/8535ed6a/f247/4d31/a777/e1b123d66ea5/master.mp3\u001b[0m\n",
      "\u001b[31m632 alibrary.models.mediamodels ERROR    unable to extract code: u'code'\u001b[0m\n",
      "\u001b[36m43  media_asset.models       DEBUG    waveform - get or create for media: Computer Love w (created: False)\u001b[0m\n",
      "\u001b[36m182 media_asset.models       DEBUG    version - get or create for media: Computer Love mp3 default (created: False)\u001b[0m\n",
      "\u001b[36m599 alibrary.models.mediamodels DEBUG    update echoprint, using binary: /usr/local/bin/echoprint-codegen\u001b[0m\n",
      "\u001b[36m609 alibrary.models.mediamodels DEBUG    update echoprint: /Users/ohrstrom/Documents/Code/openbroadcast.org/website/media/private/29a335b8/4443/453d/84e4/90ea54c0a7ed/master.mp3\u001b[0m\n"
     ]
    },
    {
     "name": "stdout",
     "output_type": "stream",
     "text": [
      "updated index for Speak to Me / Breathe\n",
      "updated index for Computer Love\n"
     ]
    },
    {
     "name": "stderr",
     "output_type": "stream",
     "text": [
      "\u001b[01;32m673 alibrary.models.mediamodels INFO     successfully ingested fingerprint for 389065\u001b[0m\n",
      "\u001b[36m43  media_asset.models       DEBUG    waveform - get or create for media: Das Wrack der \"Argyll Queen\" w (created: False)\u001b[0m\n",
      "\u001b[36m182 media_asset.models       DEBUG    version - get or create for media: Das Wrack der \"Argyll Queen\" mp3 default (created: False)\u001b[0m\n",
      "\u001b[36m599 alibrary.models.mediamodels DEBUG    update echoprint, using binary: /usr/local/bin/echoprint-codegen\u001b[0m\n",
      "\u001b[36m609 alibrary.models.mediamodels DEBUG    update echoprint: /Users/ohrstrom/Documents/Code/openbroadcast.org/website/media/private/0de21a1a/88d5/4be1/9c61/2c3fa052207b/master.mp3\u001b[0m\n"
     ]
    },
    {
     "name": "stdout",
     "output_type": "stream",
     "text": [
      "updated index for Das Wrack der \"Argyll Queen\"\n"
     ]
    },
    {
     "name": "stderr",
     "output_type": "stream",
     "text": [
      "\u001b[01;32m673 alibrary.models.mediamodels INFO     successfully ingested fingerprint for 389057\u001b[0m\n",
      "\u001b[36m43  media_asset.models       DEBUG    waveform - get or create for media: Ein Papagei spricht Latein w (created: False)\u001b[0m\n",
      "\u001b[36m182 media_asset.models       DEBUG    version - get or create for media: Ein Papagei spricht Latein mp3 default (created: False)\u001b[0m\n",
      "\u001b[36m599 alibrary.models.mediamodels DEBUG    update echoprint, using binary: /usr/local/bin/echoprint-codegen\u001b[0m\n",
      "\u001b[36m609 alibrary.models.mediamodels DEBUG    update echoprint: /Users/ohrstrom/Documents/Code/openbroadcast.org/website/media/private/064c72e4/7f5c/4cc5/9555/93e0b635c4d3/master.mp3\u001b[0m\n",
      "\u001b[31m632 alibrary.models.mediamodels ERROR    unable to extract code: u'code'\u001b[0m\n",
      "\u001b[36m43  media_asset.models       DEBUG    waveform - get or create for media: KR-100 w (created: False)\u001b[0m\n",
      "\u001b[36m182 media_asset.models       DEBUG    version - get or create for media: KR-100 mp3 default (created: False)\u001b[0m\n",
      "\u001b[36m599 alibrary.models.mediamodels DEBUG    update echoprint, using binary: /usr/local/bin/echoprint-codegen\u001b[0m\n",
      "\u001b[36m609 alibrary.models.mediamodels DEBUG    update echoprint: /Users/ohrstrom/Documents/Code/openbroadcast.org/website/media/private/75f8b955/27d3/40fe/aeda/87bd53f02de3/master.mp3\u001b[0m\n"
     ]
    },
    {
     "name": "stdout",
     "output_type": "stream",
     "text": [
      "updated index for Ein Papagei spricht Latein\n",
      "[Errno 2] No such file or directory: u'/Users/ohrstrom/Documents/Code/openbroadcast.org/website/media/private/064c72e4/7f5c/4cc5/9555/93e0b635c4d3/master.mp3'\n",
      "updated index for KR-100\n"
     ]
    },
    {
     "name": "stderr",
     "output_type": "stream",
     "text": [
      "\u001b[01;32m673 alibrary.models.mediamodels INFO     successfully ingested fingerprint for 389071\u001b[0m\n",
      "\u001b[36m43  media_asset.models       DEBUG    waveform - get or create for media: Angriff! w (created: False)\u001b[0m\n",
      "\u001b[36m182 media_asset.models       DEBUG    version - get or create for media: Angriff! mp3 default (created: False)\u001b[0m\n",
      "\u001b[36m599 alibrary.models.mediamodels DEBUG    update echoprint, using binary: /usr/local/bin/echoprint-codegen\u001b[0m\n",
      "\u001b[36m609 alibrary.models.mediamodels DEBUG    update echoprint: /Users/ohrstrom/Documents/Code/openbroadcast.org/website/media/private/71f18dcd/afb2/4cf7/a809/c57989e9acde/master.mp3\u001b[0m\n",
      "\u001b[31m632 alibrary.models.mediamodels ERROR    unable to extract code: u'code'\u001b[0m\n",
      "\u001b[36m43  media_asset.models       DEBUG    waveform - get or create for media: Benchpress w (created: False)\u001b[0m\n",
      "\u001b[36m182 media_asset.models       DEBUG    version - get or create for media: Benchpress mp3 default (created: False)\u001b[0m\n",
      "\u001b[36m599 alibrary.models.mediamodels DEBUG    update echoprint, using binary: /usr/local/bin/echoprint-codegen\u001b[0m\n",
      "\u001b[36m609 alibrary.models.mediamodels DEBUG    update echoprint: /Users/ohrstrom/Documents/Code/openbroadcast.org/website/media/private/d55e23b2/4b6f/4815/bc1e/5f81a95581cd/master.mp3\u001b[0m\n",
      "\u001b[31m632 alibrary.models.mediamodels ERROR    unable to extract code: u'code'\u001b[0m\n",
      "\u001b[36m43  media_asset.models       DEBUG    waveform - get or create for media: Do That Dance w (created: False)\u001b[0m\n",
      "\u001b[36m182 media_asset.models       DEBUG    version - get or create for media: Do That Dance mp3 default (created: False)\u001b[0m\n",
      "\u001b[36m599 alibrary.models.mediamodels DEBUG    update echoprint, using binary: /usr/local/bin/echoprint-codegen\u001b[0m\n",
      "\u001b[36m609 alibrary.models.mediamodels DEBUG    update echoprint: /Users/ohrstrom/Documents/Code/openbroadcast.org/website/media/private/96f5520d/0b13/4f9f/acbf/a6bc42b7dc5a/master.mp3\u001b[0m\n"
     ]
    },
    {
     "name": "stdout",
     "output_type": "stream",
     "text": [
      "updated index for Angriff!\n",
      "[Errno 2] No such file or directory: u'/Users/ohrstrom/Documents/Code/openbroadcast.org/website/media/private/71f18dcd/afb2/4cf7/a809/c57989e9acde/master.mp3'\n",
      "updated index for Benchpress\n",
      "updated index for Do That Dance\n"
     ]
    },
    {
     "name": "stderr",
     "output_type": "stream",
     "text": [
      "\u001b[01;32m673 alibrary.models.mediamodels INFO     successfully ingested fingerprint for 389063\u001b[0m\n",
      "\u001b[36m43  media_asset.models       DEBUG    waveform - get or create for media: Schneewittchen ist verschwunden w (created: False)\u001b[0m\n",
      "\u001b[36m182 media_asset.models       DEBUG    version - get or create for media: Schneewittchen ist verschwunden mp3 default (created: False)\u001b[0m\n",
      "\u001b[36m599 alibrary.models.mediamodels DEBUG    update echoprint, using binary: /usr/local/bin/echoprint-codegen\u001b[0m\n",
      "\u001b[36m609 alibrary.models.mediamodels DEBUG    update echoprint: /Users/ohrstrom/Documents/Code/openbroadcast.org/website/media/private/e06f286c/b020/408e/aecd/fd7a2a5dc2b4/master.mp3\u001b[0m\n"
     ]
    },
    {
     "name": "stdout",
     "output_type": "stream",
     "text": [
      "updated index for Schneewittchen ist verschwunden\n"
     ]
    },
    {
     "name": "stderr",
     "output_type": "stream",
     "text": [
      "\u001b[01;32m673 alibrary.models.mediamodels INFO     successfully ingested fingerprint for 389066\u001b[0m\n",
      "\u001b[36m43  media_asset.models       DEBUG    waveform - get or create for media: Die Goldgräberstadt w (created: False)\u001b[0m\n",
      "\u001b[36m182 media_asset.models       DEBUG    version - get or create for media: Die Goldgräberstadt mp3 default (created: False)\u001b[0m\n",
      "\u001b[36m599 alibrary.models.mediamodels DEBUG    update echoprint, using binary: /usr/local/bin/echoprint-codegen\u001b[0m\n",
      "\u001b[36m609 alibrary.models.mediamodels DEBUG    update echoprint: /Users/ohrstrom/Documents/Code/openbroadcast.org/website/media/private/e7441ca8/871e/4ecf/b0bf/ec5081bbc62f/master.mp3\u001b[0m\n"
     ]
    },
    {
     "name": "stdout",
     "output_type": "stream",
     "text": [
      "updated index for Die Goldgräberstadt\n"
     ]
    },
    {
     "name": "stderr",
     "output_type": "stream",
     "text": [
      "\u001b[01;32m673 alibrary.models.mediamodels INFO     successfully ingested fingerprint for 389058\u001b[0m\n",
      "\u001b[36m43  media_asset.models       DEBUG    waveform - get or create for media: Ein unverhoffter Besuch w (created: False)\u001b[0m\n",
      "\u001b[36m182 media_asset.models       DEBUG    version - get or create for media: Ein unverhoffter Besuch mp3 default (created: False)\u001b[0m\n",
      "\u001b[36m599 alibrary.models.mediamodels DEBUG    update echoprint, using binary: /usr/local/bin/echoprint-codegen\u001b[0m\n",
      "\u001b[36m609 alibrary.models.mediamodels DEBUG    update echoprint: /Users/ohrstrom/Documents/Code/openbroadcast.org/website/media/private/8052c6a1/24b6/4547/aef6/0d30c288db8b/master.mp3\u001b[0m\n"
     ]
    },
    {
     "name": "stdout",
     "output_type": "stream",
     "text": [
      "updated index for Ein unverhoffter Besuch\n"
     ]
    },
    {
     "name": "stderr",
     "output_type": "stream",
     "text": [
      "\u001b[01;32m673 alibrary.models.mediamodels INFO     successfully ingested fingerprint for 389070\u001b[0m\n",
      "\u001b[36m43  media_asset.models       DEBUG    waveform - get or create for media: Beistand aus der Geisterwelt w (created: False)\u001b[0m\n",
      "\u001b[36m182 media_asset.models       DEBUG    version - get or create for media: Beistand aus der Geisterwelt mp3 default (created: False)\u001b[0m\n",
      "\u001b[36m599 alibrary.models.mediamodels DEBUG    update echoprint, using binary: /usr/local/bin/echoprint-codegen\u001b[0m\n",
      "\u001b[36m609 alibrary.models.mediamodels DEBUG    update echoprint: /Users/ohrstrom/Documents/Code/openbroadcast.org/website/media/private/9c5eebd7/076e/48e5/9611/8099087ebd85/master.mp3\u001b[0m\n"
     ]
    },
    {
     "name": "stdout",
     "output_type": "stream",
     "text": [
      "updated index for Beistand aus der Geisterwelt\n"
     ]
    },
    {
     "name": "stderr",
     "output_type": "stream",
     "text": [
      "\u001b[01;32m673 alibrary.models.mediamodels INFO     successfully ingested fingerprint for 389062\u001b[0m\n",
      "\u001b[36m43  media_asset.models       DEBUG    waveform - get or create for media: Blackbeard der Pirat w (created: False)\u001b[0m\n",
      "\u001b[36m182 media_asset.models       DEBUG    version - get or create for media: Blackbeard der Pirat mp3 default (created: False)\u001b[0m\n",
      "\u001b[36m599 alibrary.models.mediamodels DEBUG    update echoprint, using binary: /usr/local/bin/echoprint-codegen\u001b[0m\n",
      "\u001b[36m609 alibrary.models.mediamodels DEBUG    update echoprint: /Users/ohrstrom/Documents/Code/openbroadcast.org/website/media/private/465e61e3/9aa2/42bb/bec4/3d5bdcdd6169/master.mp3\u001b[0m\n",
      "\u001b[31m632 alibrary.models.mediamodels ERROR    unable to extract code: u'code'\u001b[0m\n",
      "\u001b[36m43  media_asset.models       DEBUG    waveform - get or create for media: The Bells of the Stars w (created: False)\u001b[0m\n",
      "\u001b[36m182 media_asset.models       DEBUG    version - get or create for media: The Bells of the Stars mp3 default (created: False)\u001b[0m\n",
      "\u001b[36m599 alibrary.models.mediamodels DEBUG    update echoprint, using binary: /usr/local/bin/echoprint-codegen\u001b[0m\n",
      "\u001b[36m609 alibrary.models.mediamodels DEBUG    update echoprint: /Users/ohrstrom/Documents/Code/openbroadcast.org/website/media/private/2c5416dd/455e/4fa2/91ff/7bdb25932c6a/master.mp3\u001b[0m\n"
     ]
    },
    {
     "name": "stdout",
     "output_type": "stream",
     "text": [
      "updated index for Blackbeard der Pirat\n",
      "[Errno 2] No such file or directory: u'/Users/ohrstrom/Documents/Code/openbroadcast.org/website/media/private/465e61e3/9aa2/42bb/bec4/3d5bdcdd6169/master.mp3'\n",
      "updated index for The Bells of the Stars\n"
     ]
    },
    {
     "name": "stderr",
     "output_type": "stream",
     "text": [
      "\u001b[01;32m673 alibrary.models.mediamodels INFO     successfully ingested fingerprint for 389059\u001b[0m\n",
      "\u001b[36m43  media_asset.models       DEBUG    waveform - get or create for media: Die rätselhafte Botschaft w (created: False)\u001b[0m\n",
      "\u001b[36m182 media_asset.models       DEBUG    version - get or create for media: Die rätselhafte Botschaft mp3 default (created: False)\u001b[0m\n",
      "\u001b[36m599 alibrary.models.mediamodels DEBUG    update echoprint, using binary: /usr/local/bin/echoprint-codegen\u001b[0m\n",
      "\u001b[36m609 alibrary.models.mediamodels DEBUG    update echoprint: /Users/ohrstrom/Documents/Code/openbroadcast.org/website/media/private/29928569/24d8/4a5f/8cf6/5f37d6fce124/master.mp3\u001b[0m\n"
     ]
    },
    {
     "name": "stdout",
     "output_type": "stream",
     "text": [
      "updated index for Die rätselhafte Botschaft\n"
     ]
    },
    {
     "name": "stderr",
     "output_type": "stream",
     "text": [
      "\u001b[01;32m673 alibrary.models.mediamodels INFO     successfully ingested fingerprint for 389067\u001b[0m\n",
      "\u001b[36m43  media_asset.models       DEBUG    waveform - get or create for media: Und wieder Java-Jim! w (created: False)\u001b[0m\n",
      "\u001b[36m182 media_asset.models       DEBUG    version - get or create for media: Und wieder Java-Jim! mp3 default (created: False)\u001b[0m\n",
      "\u001b[36m599 alibrary.models.mediamodels DEBUG    update echoprint, using binary: /usr/local/bin/echoprint-codegen\u001b[0m\n",
      "\u001b[36m609 alibrary.models.mediamodels DEBUG    update echoprint: /Users/ohrstrom/Documents/Code/openbroadcast.org/website/media/private/0d721fbf/cccb/4780/85ec/fd1b08acbb0c/master.mp3\u001b[0m\n",
      "\u001b[31m632 alibrary.models.mediamodels ERROR    unable to extract code: u'code'\u001b[0m\n",
      "\u001b[36m43  media_asset.models       DEBUG    waveform - get or create for media: Babylon by Car w (created: False)\u001b[0m\n",
      "\u001b[36m182 media_asset.models       DEBUG    version - get or create for media: Babylon by Car mp3 default (created: False)\u001b[0m\n",
      "\u001b[36m599 alibrary.models.mediamodels DEBUG    update echoprint, using binary: /usr/local/bin/echoprint-codegen\u001b[0m\n",
      "\u001b[36m609 alibrary.models.mediamodels DEBUG    update echoprint: /Users/ohrstrom/Documents/Code/openbroadcast.org/website/media/private/1ed2c19d/48db/4006/8c2a/a0c758678731/master.mp3\u001b[0m\n"
     ]
    },
    {
     "name": "stdout",
     "output_type": "stream",
     "text": [
      "updated index for Und wieder Java-Jim!\n",
      "updated index for Babylon by Car\n"
     ]
    },
    {
     "name": "stderr",
     "output_type": "stream",
     "text": [
      "\u001b[01;32m673 alibrary.models.mediamodels INFO     successfully ingested fingerprint for 389069\u001b[0m\n",
      "\u001b[36m43  media_asset.models       DEBUG    waveform - get or create for media: Der letzte Fingerzeig w (created: False)\u001b[0m\n",
      "\u001b[36m182 media_asset.models       DEBUG    version - get or create for media: Der letzte Fingerzeig mp3 default (created: False)\u001b[0m\n",
      "\u001b[36m599 alibrary.models.mediamodels DEBUG    update echoprint, using binary: /usr/local/bin/echoprint-codegen\u001b[0m\n",
      "\u001b[36m609 alibrary.models.mediamodels DEBUG    update echoprint: /Users/ohrstrom/Documents/Code/openbroadcast.org/website/media/private/54cb8a4a/0dc3/4339/9c57/b1220bb8b515/master.mp3\u001b[0m\n",
      "\u001b[31m632 alibrary.models.mediamodels ERROR    unable to extract code: u'code'\u001b[0m\n",
      "\u001b[36m43  media_asset.models       DEBUG    waveform - get or create for media: Tales From the Crypt w (created: False)\u001b[0m\n",
      "\u001b[36m182 media_asset.models       DEBUG    version - get or create for media: Tales From the Crypt mp3 default (created: False)\u001b[0m\n",
      "\u001b[36m599 alibrary.models.mediamodels DEBUG    update echoprint, using binary: /usr/local/bin/echoprint-codegen\u001b[0m\n",
      "\u001b[36m609 alibrary.models.mediamodels DEBUG    update echoprint: /Users/ohrstrom/Documents/Code/openbroadcast.org/website/media/private/adbec90e/e3ff/459c/9d60/762dc034929c/master.mp3\u001b[0m\n"
     ]
    },
    {
     "name": "stdout",
     "output_type": "stream",
     "text": [
      "updated index for Der letzte Fingerzeig\n",
      "[Errno 2] No such file or directory: u'/Users/ohrstrom/Documents/Code/openbroadcast.org/website/media/private/54cb8a4a/0dc3/4339/9c57/b1220bb8b515/master.mp3'\n",
      "updated index for Tales From the Crypt\n"
     ]
    },
    {
     "name": "stderr",
     "output_type": "stream",
     "text": [
      "\u001b[01;32m673 alibrary.models.mediamodels INFO     successfully ingested fingerprint for 389061\u001b[0m\n",
      "\u001b[36m43  media_asset.models       DEBUG    waveform - get or create for media: Von Steinen und Gebeinen w (created: False)\u001b[0m\n",
      "\u001b[36m182 media_asset.models       DEBUG    version - get or create for media: Von Steinen und Gebeinen mp3 default (created: False)\u001b[0m\n",
      "\u001b[36m599 alibrary.models.mediamodels DEBUG    update echoprint, using binary: /usr/local/bin/echoprint-codegen\u001b[0m\n",
      "\u001b[36m609 alibrary.models.mediamodels DEBUG    update echoprint: /Users/ohrstrom/Documents/Code/openbroadcast.org/website/media/private/b4adaef7/045e/485c/9d75/ea46f7f2a5c2/master.mp3\u001b[0m\n"
     ]
    },
    {
     "name": "stdout",
     "output_type": "stream",
     "text": [
      "updated index for Von Steinen und Gebeinen\n"
     ]
    },
    {
     "name": "stderr",
     "output_type": "stream",
     "text": [
      "\u001b[01;32m673 alibrary.models.mediamodels INFO     successfully ingested fingerprint for 389060\u001b[0m\n",
      "\u001b[36m43  media_asset.models       DEBUG    waveform - get or create for media: Blackbeard hat das letzte Wort w (created: False)\u001b[0m\n",
      "\u001b[36m182 media_asset.models       DEBUG    version - get or create for media: Blackbeard hat das letzte Wort mp3 default (created: False)\u001b[0m\n",
      "\u001b[36m599 alibrary.models.mediamodels DEBUG    update echoprint, using binary: /usr/local/bin/echoprint-codegen\u001b[0m\n",
      "\u001b[36m609 alibrary.models.mediamodels DEBUG    update echoprint: /Users/ohrstrom/Documents/Code/openbroadcast.org/website/media/private/a278f53c/2820/4388/83e6/e412df025683/master.mp3\u001b[0m\n"
     ]
    },
    {
     "name": "stdout",
     "output_type": "stream",
     "text": [
      "updated index for Blackbeard hat das letzte Wort\n"
     ]
    },
    {
     "name": "stderr",
     "output_type": "stream",
     "text": [
      "\u001b[01;32m673 alibrary.models.mediamodels INFO     successfully ingested fingerprint for 389068\u001b[0m\n",
      "\u001b[36m43  media_asset.models       DEBUG    waveform - get or create for media: Der Schatz der \"Argyll Queen\" w (created: False)\u001b[0m\n",
      "\u001b[36m182 media_asset.models       DEBUG    version - get or create for media: Der Schatz der \"Argyll Queen\" mp3 default (created: False)\u001b[0m\n"
     ]
    },
    {
     "name": "stdout",
     "output_type": "stream",
     "text": [
      "updated index for Der Schatz der \"Argyll Queen\"\n"
     ]
    }
   ],
   "source": [
    "# populate fingerprints\n",
    "#qs = Media.objects.exclude(master='')\n",
    "#for item in qs:\n",
    "#    item.update_echoprint()"
   ]
  },
  {
   "cell_type": "code",
   "execution_count": 2,
   "metadata": {},
   "outputs": [
    {
     "name": "stderr",
     "output_type": "stream",
     "text": [
      "\u001b[36m17  base.audio.echoprint     DEBUG    echoprint binary: /usr/local/bin/echoprint-codegen\u001b[0m\n",
      "\u001b[01;32m35  base.audio.echoprint     INFO     echoprint result - version: 4.12 - duration: 198\u001b[0m\n"
     ]
    },
    {
     "name": "stdout",
     "output_type": "stream",
     "text": [
      "version:  4.12\n",
      "duration: 198\n"
     ]
    }
   ],
   "source": [
    "from ep.API import fp\n",
    "from base.audio.echoprint import echoprint_from_path\n",
    "\n",
    "# empty fp-database\n",
    "# fp.erase_database(really_delete=True)\n",
    "\n",
    "code, version, duration, echoprint = echoprint_from_path(path)\n",
    "\n",
    "print 'version:  {}'.format(version)\n",
    "print 'duration: {}'.format(duration)\n"
   ]
  },
  {
   "cell_type": "code",
   "execution_count": 3,
   "metadata": {},
   "outputs": [
    {
     "name": "stdout",
     "output_type": "stream",
     "text": [
      "match:  False\n"
     ]
    }
   ],
   "source": [
    "# fp-database lookup\n",
    "res = fp.best_match_for_query(code_string=code)\n",
    "\n",
    "print 'match:  {}'.format(res.match())\n"
   ]
  },
  {
   "cell_type": "code",
   "execution_count": 4,
   "metadata": {},
   "outputs": [
    {
     "name": "stdout",
     "output_type": "stream",
     "text": [
      "****\n",
      "None\n",
      "****\n"
     ]
    }
   ],
   "source": [
    "from django.utils import timezone\n",
    "\n",
    "\n",
    "# add code to database\n",
    "\n",
    "# decode\n",
    "_code = fp.decode_code_string(code)\n",
    "\n",
    "_id = 123;\n",
    "\n",
    "nfp = {\n",
    "    b\"track_id\": \"%s\" % _id,\n",
    "    b\"fp\": _code,\n",
    "    b\"track\": \"%s\" % 'test track',\n",
    "    b\"length\": duration,\n",
    "    b\"codever\": \"%s\" % version,\n",
    "    b\"source\": \"%s\" % \"NRGFP\",\n",
    "    b\"import_date\": \"%sZ\" % timezone.now().isoformat()\n",
    "}\n",
    "\n",
    "r = fp.ingest(nfp, split=False, do_commit=True)\n",
    "\n",
    "print '****'\n",
    "print r\n",
    "print '****'"
   ]
  },
  {
   "cell_type": "code",
   "execution_count": 5,
   "metadata": {},
   "outputs": [
    {
     "name": "stdout",
     "output_type": "stream",
     "text": [
      "123\n",
      "412854 442 321055 442 541479 442 566662 442 508266 442 386861 442 611975 470 473993 470 1017918 470 566305 470 343794 470 349700 470 906818 506 198185 506 52461 506 1041746 506 560671 506 449978 506 1017918 525 343794 525 349700 525 863225 525 933748 525 880221 525 1017918 579 398966 579 955192 579 172420 579 848259 579 687678 579 578752 634 343794 634 920237 634 828047 634 961089 634 467014 634 689942 689 167387 689 676495 689 125479 689 611562 689 563866 689 480364 744 817210 744 1012056 744 566237 744 127953 744 508637 744 328339 799 56412 799 467118 799 246432 799 382469 799 508637 799 445441 1004 232296 1004 943773 1004 104281 1004 969639 1004 535741 1004 1017918 1073 343794 1073 349700 1073 172420 1073 933748 1073 880221 1073 1017918 1127 398966 1127 955192 1127 172420 1127 848259 1127 797555 1127 578752 1182 343794 1182 920237 1182 172420 1182 52110 1182 797555 1182 689942 1237 477392 1237 349700 1237 838201 1237 933748 1237 880221 1237 1017918 1292 398966 1292 955192 1292 162836 1292 814452 1292 799781 1292 578752 1347 172420 1347 52110 1347 329935 1347 846068 1347 194602 1347 477392 1402 52141 1402 799781 1402 125479 1402 1021140 1402 77486 1402 848259 1457 533037 1457 4762 1457 286621 1457 529578 1457 960128 1457 848259 1566 533037 1566 194602 1566 286621 1566 773865 1566 960128 1566 848259 1676 533037 1676 194602 1676 286621 1676 773865 1676 960128 1676 848259 1785 533037 1785 194602 1785 286621 1785 773865 1785 960128 1785 848259 1895 533037 1895 194602 1895 286621 1895 773865 1895 960128 1895 848259 2005 533037 2005 194602 2005 611562 2005 143902 2005 508637 2005 848259 2114 814452 2114 964278 2114 533037 2114 194602 2114 467118 2114 349700 2224 848259 2224 797555 2224 533037 2224 721241 2224 194602 2224 1017918 2333 172420 2333 848259 2333 817210 2333 533037 2333 194602 2333 343794 2388 162836 2388 799781 2388 566237 2388 1021140 2388 382469 2388 848259 2443 533037 2443 194602 2443 286621 2443 773865 2443 960128 2443 848259 2553 533037 2553 194602 2553 611562 2553 963323 2553 207373 2553 848259 2662 1010808 2662 357854 2662 533037 2662 194602 2662 467118 2662 955192 2772 848259 2772 687678 2772 533037 2772 831676 2772 194602 2772 689942 2882 398297 2882 848259 2882 802289 2882 814452 2882 357854 2882 343794 2937 172420 2937 163597 2937 162836 2937 347075 2937 964278 2937 955192 2991 848259 2991 797555 2991 533037 2991 236796 2991 194602 2991 689942 3101 398297 3101 848259 3101 52141 3101 814452 3101 964278 3101 343794 3156 172420 3156 373436 3156 162836 3156 347075 3156 1043554 3156 349700 3211 848259 3211 797555 3211 533037 3211 721241 3211 194602 3211 1017918 3320 172420 3320 848259 3320 162836 3320 814452 3320 964278 3320 343794 3375 172420 3375 797555 3375 162836 3375 929817 3375 357854 3375 349700 3430 933748 3430 880221 3430 533037 3430 721241 3430 194602 3430 578752 3539 172420 3539 52110 3539 329935 3539 846068 3539 194602 3539 477392 3594 52141 3594 799781 3594 701120 3594 102625 3594 1031007 3594 848259 3650 930382 3650 310130 3650 340572 3650 932792 3650 849483 3650 843496 3759 273650 3759 336030 3759 88490 3759 678998 3759 959356 3759 45805 3868 268861 3868 606229 3868 719171 3868 456445 3868 117733 3868 168185 4060 739634 4060 246247 4060 622198 4060 880857 4060 236447 4060 737386 4124 381696 4124 210285 4124 688021 4124 98485 4124 731133 4124 1017918 4197 343794 4197 349700 4197 172420 4197 848259 4197 797555 4197 1017918 4252 343794 4252 349700 4252 162836 4252 814452 4252 799781 4252 1017918 4307 172420 4307 848259 4307 329935 4307 533037 4307 194602 4307 343794 4362 162836 4362 799781 4362 817210 4362 539981 4362 124211 4362 848259 4416 1010808 4416 357854 4416 286621 4416 773865 4416 311683 4416 955192 4526 533037 4526 831676 4526 286621 4526 210601 4526 960128 4526 398297 4636 539433 4636 194602 4636 125479 4636 143902 4636 207373 4636 347075 4691 410917 4691 124211 4691 293551 4691 77486 4691 508637 4691 955192 4855 848259 4855 797555 4855 533037 4855 236796 4855 194602 4855 689942 4965 398297 4965 848259 4965 732748 4965 732748 4965 732748 4965 343794 5020 732748 5020 732748 5020 732748 5020 732748 5020 732748 5020 155872 470 833992 470 577053 470 739168 470 95369 470 965635 470 155872 525 438260 525 414230 525 714566 525 811892 525 383618 525 555104 579 544853 579 754098 579 833992 579 567410 579 850290 579 879824 634 132521 634 372212 634 936465 634 683280 634 55851 634 304100 689 916432 689 644616 689 88568 689 349079 689 417750 689 1047381 719 99614 719 396613 719 17238 719 459033 719 251742 719 907262 744 27806 744 482399 744 370804 744 952478 744 945251 744 682984 900 651486 900 290746 900 654843 900 473867 900 106529 900 750056 936 775318 936 70342 936 343844 936 686845 936 1036615 936 588626 952 381755 952 739008 952 563388 952 1027104 952 761112 952 503666 1007 795747 1007 611432 1007 65542 1007 96229 1007 761112 1007 132521 1073 543830 1073 567410 1073 264336 1073 456332 1073 965635 1073 155872 1128 833992 1128 414230 1128 99180 1128 739320 1128 280753 1128 555104 1183 932152 1183 687493 1183 524261 1183 853198 1183 316204 1183 461266 1237 264336 1237 476670 1237 442908 1237 718952 1237 725449 1237 245359 1292 738115 1292 608191 1292 737132 1292 738394 1292 698850 1292 160810 1388 613875 1388 436904 1388 296860 1388 889196 1388 653485 1388 446800 1457 500605 1457 900597 1457 52890 1457 735377 1457 947234 1457 132521 1621 543830 1621 414230 1621 193241 1621 853198 1621 221101 1621 555104 1676 739168 1676 447140 1676 524261 1676 853198 1676 900597 1676 543830 1730 264336 1730 348744 1730 193241 1730 221101 1730 900597 1730 577053 1785 447140 1785 348744 1785 853198 1785 221101 1785 900597 1785 155872 1895 833992 1895 577053 1895 739168 1895 447140 1895 965635 1895 155872 1950 833992 1950 414230 1950 739168 1950 95369 1950 348744 1950 555104 2005 438260 2005 577053 2005 739168 2005 447140 2005 348744 2005 132521 2059 543830 2059 567410 2059 193241 2059 32054 2059 221101 2059 155872 2114 739168 2114 447140 2114 524261 2114 853198 2114 900597 2114 833992 2169 739168 2169 348744 2169 524261 2169 221101 2169 900597 2169 577053 2224 447140 2224 348744 2224 596496 2224 460525 2224 735377 2224 155872 2334 739168 2334 447140 2334 990765 2334 596496 2334 735377 2334 833992 2389 524261 2389 221101 2389 47474 2389 890735 2389 417809 2389 447140 2443 894667 2443 872132 2443 481517 2443 202831 2443 898865 2443 229351 2553 749577 2553 56538 2553 63794 2553 863475 2553 71717 2553 713186 2663 848953 2663 872396 2663 711096 2663 242885 2663 485570 2663 590638 2706 1022025 2706 62316 2706 173549 2706 848481 2706 421148 2706 563388 3145 571778 3145 400262 3145 58769 3145 290937 3145 175157 3145 761112 3199 418318 3199 782902 3199 692108 3199 729299 3199 837608 3199 555104 3375 932152 3375 687493 3375 524261 3375 853198 3375 1030478 3375 461266 3430 264336 3430 476670 3430 953768 3430 602167 3430 735377 3430 245359 3485 172540 3485 221101 3485 738115 3485 460525 3485 468912 3485 611910 3581 1015675 3581 78626 3581 733181 3581 967109 3581 982025 3581 577053 3649 447140 3649 348744 3649 853198 3649 221101 3649 176055 3649 155872 3759 833992 3759 577053 3759 843226 3759 21465 3759 867255 3759 155872 3814 99180 3814 499072 3814 976265 3814 940634 3814 218322 3814 907507 3868 520158 3868 490547 3868 798807 3868 292222 3868 930818 3868 157986 3923 565399 3923 752690 3923 168715 3923 616918 3923 706844 3923 868108 4074 411289 4074 188230 4074 837012 4074 427470 4074 204714 4074 584371 4124 270275 4124 823241 4124 714239 4124 356255 4124 982542 4124 937783 4170 921655 4170 1016511 4170 968632 4170 937043 4170 225969 4170 833992 4198 990765 4198 460525 4198 784442 4198 738394 4198 698850 4198 853198 4253 596496 4253 947234 4253 647645 4253 264912 4253 461074 4253 965635 4362 460525 4362 735377 4362 999907 4362 743760 4362 325699 4362 543830 4526 758586 4526 460525 4526 442908 4526 738394 4526 911374 4526 853198 4581 596496 4581 666382 4581 830007 4581 200061 4581 911374 4581 348744 4691 221101 4691 900597 4691 460525 4691 735377 4691 952718 4691 155872 4855 833992 4855 414230 4855 739168 4855 447140 4855 348744 4855 555104 4910 833992 4910 577053 4910 739168 4910 447140 4910 965635 4910 132521 4965 543830 4965 414230 4965 66747 4965 66747 4965 66747 4965 555104 5020 66747 5020 66747 5020 66747 5020 66747 5020 66747 5020 15329 471 865260 471 136482 471 1039634 471 176804 471 581435 471 15329 526 865260 526 468352 526 1039634 526 176804 526 749810 526 267869 580 865260 580 136482 580 1039634 580 176804 580 749810 580 1010277 635 357641 635 136482 635 494108 635 126209 635 471834 635 15329 690 448295 690 424838 690 674223 690 83328 690 82470 690 661278 745 1002361 745 920581 745 475127 745 890900 745 981594 745 1031305 800 204986 800 652185 800 62581 800 95306 800 1025538 800 107302 936 997140 936 872155 936 476744 936 531265 936 342864 936 169549 1023 353604 1023 49433 1023 220653 1023 190274 1023 1030248 1023 272575 1074 602299 1074 136482 1074 979446 1074 176804 1074 749810 1074 128845 1115 365786 1115 256347 1115 1030361 1115 220006 1115 771298 1115 15329 1183 1039634 1183 176804 1183 597323 1183 119116 1183 324218 1183 865260 1238 145014 1238 543825 1238 1016080 1238 760783 1238 283571 1238 650295 1293 174052 1293 779587 1293 418764 1293 808662 1293 696955 1293 131326 1403 154715 1403 15885 1403 534839 1403 760783 1403 255521 1403 984109 1446 330336 1446 821784 1446 322584 1446 1028279 1446 374147 1446 82819 1567 356218 1567 749810 1567 137338 1567 735110 1567 545261 1567 15329 1677 865260 1677 136482 1677 1039634 1677 176804 1677 749810 1677 15329 1732 865260 1732 136482 1732 418983 1732 174052 1732 735110 1732 15329 1786 1039634 1786 176804 1786 1016080 1786 624615 1786 634928 1786 865260 1841 418983 1841 735110 1841 475127 1841 760783 1841 936641 1841 176804 1896 174052 1896 545261 1896 418764 1896 789552 1896 531296 1896 136482 2006 174052 2006 735110 2006 624615 2006 760783 2006 255521 2006 865260 2115 1039634 2115 749810 2115 418983 2115 735110 2115 169561 2115 136482 2170 176804 2170 581435 2170 174052 2170 735110 2170 545261 2170 267869 2280 865260 2280 136482 2280 1039634 2280 176804 2280 749810 2280 1010277 2334 357641 2334 136482 2334 345197 2334 174052 2334 735110 2334 15329 2390 1039634 2390 176804 2390 418983 2390 174052 2390 545261 2390 865260 2444 1039634 2444 749810 2444 1035003 2444 464089 2444 645626 2444 136482 2499 575383 2499 783216 2499 830659 2499 420368 2499 962213 2499 418983 2609 545448 2609 897129 2609 224640 2609 563008 2609 457682 2609 817404 2664 367980 2664 191778 2664 643179 2664 437946 2664 579198 2664 673403 2883 400506 2883 531296 2883 340416 2883 583786 2883 991311 2883 229577 2935 381188 2935 516747 2935 830198 2935 891371 2935 77568 2935 115493 3157 176804 3157 1025541 3157 174052 3157 186424 3157 545261 3157 556980 3267 717841 3267 136482 3267 826897 3267 453176 3267 581435 3267 128845 3307 513375 3307 106167 3307 1030361 3307 220006 3307 441285 3307 267869 3376 1039634 3376 516574 3376 69524 3376 868499 3376 46984 3376 428412 3431 20771 3431 595702 3431 537419 3431 783216 3431 620977 3431 31563 3486 312152 3486 106159 3486 204664 3486 406060 3486 800365 3486 800528 3595 503663 3595 169561 3595 49121 3595 634928 3595 255521 3595 714846 3641 655118 3641 809554 3641 686394 3641 836973 3641 107276 3641 1010277 3815 537419 3815 418764 3815 730307 3815 853200 3815 429828 3815 475127 3870 455097 3870 171255 3870 1035003 3870 1002519 3870 429828 3870 255521 3924 531296 3924 171255 3924 78199 3924 1002519 3924 429828 3924 15329 4198 865260 4198 136482 4198 1039634 4198 176804 4198 749810 4198 15329 4253 865260 4253 136482 4253 418983 4253 174052 4253 735110 4253 15329 4308 1039634 4308 176804 4308 702590 4308 418764 4308 789552 4308 865260 4363 475127 4363 760783 4363 455097 4363 558100 4363 151241 4363 174052 4418 223110 4418 255521 4418 575383 4418 531296 4418 171255 4418 749810 4528 735110 4528 374993 4528 760783 4528 837949 4528 936641 4528 15329 4692 865260 4692 136482 4692 1039634 4692 176804 4692 749810 4692 15329 4747 865260 4747 136482 4747 418983 4747 174052 4747 735110 4747 15329 4801 1039634 4801 176804 4801 418983 4801 174052 4801 545261 4801 865260 4856 1039634 4856 749810 4856 1016080 4856 760783 4856 634928 4856 136482 4911 174052 4911 735110 4911 907455 4911 907455 4911 907455 4911 865260 5021 907455 5021 907455 5021 907455 5021 907455 5021 907455 5021 1010909 471 195302 471 204785 471 884539 471 127826 471 215357 471 807570 526 885117 526 86520 526 918199 526 883518 526 215357 526 1010909 580 195302 580 249011 580 884539 580 879713 580 215357 580 395820 635 229676 635 86520 635 918199 635 883518 635 1009251 635 395820 690 229676 690 204785 690 136079 690 896173 690 55091 690 807570 745 79492 745 392415 745 136079 745 702828 745 86674 745 372586 800 805391 800 439690 800 691373 800 933972 800 86674 800 237404 855 41274 855 847409 855 406065 855 96611 855 86674 855 395820 1074 229676 1074 86520 1074 918199 1074 883518 1074 1009251 1074 395820 1129 229676 1129 204785 1129 971179 1129 511613 1129 782727 1129 807570 1184 918199 1184 883518 1184 971179 1184 511613 1184 237404 1184 195302 1238 884539 1238 215357 1238 372586 1238 782727 1238 237404 1238 86520 1293 883518 1293 215357 1293 511613 1293 782727 1293 237404 1293 395820 1403 229676 1403 86520 1403 971179 1403 511613 1403 782727 1403 395820 1457 918199 1457 883518 1457 165555 1457 392415 1457 41274 1457 229676 1512 971179 1512 782727 1512 165555 1512 327296 1512 847409 1512 883518 1567 511613 1567 237404 1567 211845 1567 41274 1567 847409 1567 86520 1677 883518 1677 215357 1677 511613 1677 782727 1677 424197 1677 395820 1786 229676 1786 204785 1786 918199 1786 127826 1786 1009251 1786 807570 1841 885117 1841 204785 1841 971179 1841 511613 1841 782727 1841 399361 1896 884539 1896 879713 1896 11529 1896 486541 1896 41274 1896 195302 1951 372586 1951 782727 1951 1008037 1951 533068 1951 147277 1951 883518 2006 301375 2006 717192 2006 392415 2006 41274 2006 800122 2006 925301 2115 883518 2115 336420 2115 392415 2115 995047 2115 41274 2115 508454 2225 659261 2225 883518 2225 530679 2225 511613 2225 237404 2225 90480 2252 729977 2252 948154 2252 852867 2252 314554 2252 497121 2252 86520 2334 883518 2334 215357 2334 392415 2334 327296 2334 41274 2334 395820 2444 918199 2444 883518 2444 978103 2444 511613 2444 237404 2444 229676 2499 918199 2499 215357 2499 863466 2499 532021 2499 353588 2499 86520 2554 568112 2554 765360 2554 896173 2554 55091 2554 862591 2554 226827 2663 971179 2663 687428 2663 606159 2663 675397 2663 611945 2663 629843 2718 630212 2718 942973 2718 90277 2718 900467 2718 423429 2718 595809 2759 863889 2759 144039 2759 675703 2759 859300 2759 474700 2759 713192 2938 550484 2938 847409 2938 154207 2938 560879 2938 140349 2938 762233 2957 430623 2957 956403 2957 602272 2957 267969 2957 685261 2957 229676 3212 918199 3212 215357 3212 971179 3212 782727 3212 424197 3212 86520 3266 883518 3266 1009251 3266 392415 3266 327296 3266 41274 3266 807570 3376 918199 3376 883518 3376 971179 3376 511613 3376 237404 3376 195302 3431 884539 3431 215357 3431 372586 3431 782727 3431 158261 3431 86520 3486 883518 3486 1009251 3486 392415 3486 327296 3486 41274 3486 807570 3595 918199 3595 883518 3595 971179 3595 511613 3595 158261 3595 195302 3650 884539 3650 1009251 3650 372586 3650 782727 3650 237404 3650 204785 3705 883518 3705 215357 3705 953638 3705 794385 3705 113671 3705 1010909 3814 691373 3814 896173 3814 256749 3814 1034080 3814 379309 3814 79492 3869 585450 3869 265728 3869 10800 3869 140349 3869 162297 3869 739239 3924 933972 3924 208203 3924 364784 3924 671577 3924 680788 3924 1010909 4198 884539 4198 883518 4198 29660 4198 511613 4198 237404 4198 229676 4253 918199 4253 215357 4253 165555 4253 327296 4253 474620 4253 86520 4308 511613 4308 782727 4308 392415 4308 327296 4308 847409 4308 229676 4418 918199 4418 215357 4418 971179 4418 782727 4418 158261 4418 86520 4472 883518 4472 1009251 4472 511613 4472 782727 4472 237404 4472 807570 4582 229676 4582 86520 4582 918199 4582 883518 4582 1009251 4582 1010909 4637 195302 4637 204785 4637 884539 4637 883518 4637 215357 4637 807570 4692 229676 4692 86520 4692 918199 4692 883518 4692 215357 4692 1010909 4746 195302 4746 86520 4746 372586 4746 511613 4746 782727 4746 395820 4801 918199 4801 883518 4801 79492 4801 392415 4801 41274 4801 229676 4856 971179 4856 782727 4856 79492 4856 327296 4856 439690 4856 883518 4911 511613 4911 237404 4911 1026159 4911 1026159 4911 1026159 4911 86520 5021 1026159 5021 1026159 5021 1026159 5021 1026159 5021 1026159 5021 734504 471 382845 471 1042737 471 776363 471 940778 471 912371 471 734504 525 382845 525 1042737 525 776363 525 940778 525 912371 525 734504 580 382845 580 1042737 580 776363 580 940778 580 912371 580 734504 635 382845 635 1042737 635 776363 635 940778 635 912371 635 734504 690 382845 690 1042737 690 99612 690 20677 690 167918 690 734504 745 716654 745 541566 745 290940 745 450733 745 771555 745 983473 799 483730 799 976587 799 290940 799 493432 799 923723 799 868897 854 940555 854 988403 854 690932 854 395953 854 923723 854 510938 1026 996702 1026 163786 1026 880404 1026 208595 1026 336861 1026 734504 1074 382845 1074 1042737 1074 454085 1074 450733 1074 546467 1074 734504 1128 483730 1128 171717 1128 919992 1128 773399 1128 523925 1128 776363 1183 290940 1183 395953 1183 919992 1183 236893 1183 457781 1183 56929 1238 546467 1238 923723 1238 223367 1238 566242 1238 457781 1238 1042737 1402 940778 1402 912371 1402 171717 1402 56929 1402 988403 1402 734504 1512 382845 1512 1042737 1512 776363 1512 940778 1512 912371 1512 734504 1567 382845 1567 1042737 1567 776363 1567 940778 1567 912371 1567 734504 1622 382845 1622 1042737 1622 776363 1622 940778 1622 67770 1622 734504 1677 382845 1677 376450 1677 483730 1677 171717 1677 56929 1677 654783 1731 776363 1731 940778 1731 483730 1731 171717 1731 988403 1731 940569 1786 586572 1786 912371 1786 294502 1786 56929 1786 316206 1786 1042737 1841 940778 1841 67770 1841 450733 1841 546467 1841 395953 1841 654783 1951 776363 1951 940778 1951 483730 1951 171717 1951 316206 1951 940569 2005 586572 2005 67770 2005 315996 2005 546467 2005 395953 2005 376450 2060 171717 2060 56929 2060 450733 2060 546467 2060 622324 2060 940569 2170 586572 2170 912371 2170 294502 2170 56929 2170 988403 2170 1042737 2225 940778 2225 912371 2225 171717 2225 56929 2225 988403 2225 734504 2334 382845 2334 1042737 2334 776363 2334 940778 2334 912371 2334 734504 2389 382845 2389 1042737 2389 483730 2389 171717 2389 56929 2389 734504 2444 776363 2444 940778 2444 483730 2444 171717 2444 988403 2444 382845 2499 776363 2499 912371 2499 919992 2499 223367 2499 236893 2499 1042737 2554 450733 2554 546467 2554 940590 2554 696437 2554 389518 2554 776363 2663 919992 2663 236893 2663 53599 2663 603440 2663 113797 2663 546467 2718 223367 2718 307004 2718 696437 2718 389518 2718 649031 2718 67770 2883 546467 2883 395953 2883 223367 2883 236893 2883 457781 2883 940569 3047 586572 3047 912371 3047 294502 3047 56929 3047 988403 3047 1042737 3102 940778 3102 912371 3102 171717 3102 56929 3102 988403 3102 734504 3211 382845 3211 1042737 3211 776363 3211 940778 3211 912371 3211 734504 3266 382845 3266 1042737 3266 290940 3266 450733 3266 546467 3266 734504 3321 483730 3321 171717 3321 919992 3321 67919 3321 566242 3321 776363 3376 454085 3376 395953 3376 53599 3376 603440 3376 520877 3376 56929 3431 223367 3431 523925 3431 818501 3431 287186 3431 589273 3431 940778 3595 171717 3595 988403 3595 450733 3595 395953 3595 622324 3595 1042737 3705 940778 3705 912371 3705 940590 3705 696437 3705 842556 3705 734504 3814 919992 3814 773399 3814 53599 3814 626469 3814 589273 3814 290940 3869 1003772 3869 457781 3869 53599 3869 520877 3869 589273 3869 923723 3924 566242 3924 853840 3924 575217 3924 830782 3924 589273 3924 734504 4198 382845 4198 1042737 4198 776363 4198 940778 4198 912371 4198 734504 4253 382845 4253 1042737 4253 483730 4253 171717 4253 56929 4253 734504 4308 776363 4308 940778 4308 483730 4308 171717 4308 316206 4308 382845 4363 776363 4363 67770 4363 483730 4363 56929 4363 988403 4363 376450 4417 940778 4417 912371 4417 450733 4417 546467 4417 395953 4417 357594 4527 586572 4527 940778 4527 315996 4527 450733 4527 395953 4527 382845 4582 483730 4582 56929 4582 1003772 4582 223367 4582 523925 4582 940778 4637 450733 4637 395953 4637 1043918 4637 603440 4637 830782 4637 940778 4746 450733 4746 395953 4746 773399 4746 236893 4746 457781 4746 940778 4856 171717 4856 988403 4856 450733 4856 395953 4856 923723 4856 1042737 4966 940778 4966 912371 4966 707586 4966 707586 4966 707586 4966 734504 5075 707586 5075 707586 5075 707586 5075 707586 5075 707586 5075 409296 442 147656 442 640383 442 159437 442 877408 442 73060 442 666020 471 614514 471 971206 471 585873 471 401155 471 734101 471 666020 526 614514 526 846084 526 585873 526 401155 526 917488 526 836288 581 614514 581 971206 581 585873 581 401155 581 917488 581 19313 635 682990 635 971206 635 173853 635 401155 635 917488 635 666020 690 614514 690 971206 690 67922 690 940671 690 703364 690 666020 745 171035 745 124102 745 67922 745 940671 745 726926 745 70327 800 171035 800 494797 800 7854 800 607188 800 532143 800 980957 855 624120 855 269616 855 968249 855 607188 855 439923 855 836288 1074 614514 1074 971206 1074 585873 1074 401155 1074 917488 1074 19313 1129 682990 1129 971206 1129 173853 1129 401155 1129 917488 1129 666020 1184 614514 1184 971206 1184 585873 1184 401155 1184 917488 1184 666020 1238 614514 1238 971206 1238 585873 1238 401155 1238 917488 1238 666020 1293 614514 1293 971206 1293 585873 1293 401155 1293 917488 1293 666020 1348 614514 1348 971206 1348 585873 1348 401155 1348 917488 1348 666020 1403 614514 1403 971206 1403 585873 1403 401155 1403 917488 1403 666020 1457 614514 1457 971206 1457 585873 1457 401155 1457 917488 1457 666020 1512 614514 1512 971206 1512 585873 1512 401155 1512 917488 1512 666020 1567 614514 1567 971206 1567 585873 1567 401155 1567 917488 1567 666020 1622 614514 1622 971206 1622 585873 1622 401155 1622 917488 1622 666020 1677 614514 1677 971206 1677 109558 1677 124102 1677 339690 1677 666020 1732 70327 1732 30734 1732 67922 1732 808723 1732 201159 1732 585873 1787 109558 1787 624120 1787 789224 1787 1025040 1787 954188 1787 298323 1841 703364 1841 201159 1841 660609 1841 524752 1841 745695 1841 401155 2006 124102 2006 624120 2006 377560 2006 1025040 2006 778397 2006 401155 2115 124102 2115 624120 2115 808723 2115 968249 2115 726926 2115 401155 2225 30734 2225 980957 2225 124102 2225 624120 2225 489545 2225 971206 2335 401155 2335 917488 2335 124102 2335 339690 2335 624120 2335 666020 2444 585873 2444 401155 2444 171035 2444 124102 2444 624120 2444 614514 2499 70327 2499 298323 2499 7854 2499 703364 2499 607188 2499 401155 2554 124102 2554 624120 2554 940671 2554 968249 2554 439923 2554 401155 2664 30734 2664 980957 2664 808723 2664 968249 2664 607188 2664 971206 2773 30734 2773 298323 2773 124102 2773 339690 2773 1009407 2773 614514 2883 585873 2883 734101 2883 109558 2883 339690 2883 624120 2883 846084 2938 30734 2938 298323 2938 940671 2938 593759 2938 201159 2938 682990 3047 247867 3047 298323 3047 503495 3047 339690 3047 494797 3047 401155 3102 30734 3102 279179 3102 124102 3102 444397 3102 489545 3102 971206 3212 401155 3212 917488 3212 124102 3212 339690 3212 624120 3212 666020 3321 585873 3321 401155 3321 70327 3321 30734 3321 980957 3321 614514 3376 585873 3376 917488 3376 70327 3376 298323 3376 980957 3376 971206 3431 401155 3431 917488 3431 124102 3431 339690 3431 624120 3431 666020 3541 585873 3541 401155 3541 171035 3541 124102 3541 624120 3541 614514 3595 70327 3595 298323 3595 966317 3595 522998 3595 505727 3595 401155 3650 2976 3650 5172 3650 664005 3650 992384 3650 562118 3650 377560 3760 395876 3760 68002 3760 2976 3760 488762 3760 310116 3760 532143 3870 954188 3870 687939 3870 524021 3870 745695 3870 68002 3870 19313 4198 682990 4198 846084 4198 173853 4198 1023509 4198 734101 4198 836288 4253 622164 4253 846084 4253 585873 4253 401155 4253 917488 4253 131338 4308 682990 4308 651257 4308 424844 4308 317731 4308 298323 4308 19313 4363 173853 4363 401155 4363 503495 4363 124102 4363 624120 4363 614514 4418 70327 4418 298323 4418 171035 4418 339690 4418 489545 4418 401155 4472 30734 4472 980957 4472 940671 4472 968249 4472 607188 4472 971206 4582 30734 4582 298323 4582 124102 4582 339690 4582 494797 4582 614514 4692 585873 4692 917488 4692 70327 4692 298323 4692 980957 4692 971206 4747 401155 4747 917488 4747 30734 4747 298323 4747 980957 4747 666020 4856 614514 4856 971206 4856 70327 4856 30734 4856 298323 4856 666020 4911 585873 4911 401155 4911 755198 4911 755198 4911 755198 4911 614514 4966 755198 4966 755198 4966 755198 4966 755198 4966 755198 4966 774260 471 98481 471 881075 471 799105 471 582011 471 869917 471 774260 526 98481 526 786903 526 799105 526 582011 526 850320 526 384112 581 98481 581 881075 581 799105 581 582011 581 850320 581 266456 635 117308 635 881075 635 303482 635 582011 635 850320 635 774260 690 98481 690 881075 690 861207 690 329869 690 88345 690 774260 745 327472 745 765961 745 861207 745 329869 745 203078 745 856606 800 327472 800 509543 800 861207 800 719325 800 203078 800 426124 855 3932 855 509543 855 1023984 855 534538 855 465848 855 774260 1074 799105 1074 582011 1074 856606 1074 561079 1074 426124 1074 98481 1129 799105 1129 850320 1129 856606 1129 18029 1129 426124 1129 881075 1183 582011 1183 850320 1183 561079 1183 18029 1183 426124 1183 774260 1293 98481 1293 881075 1293 856606 1293 561079 1293 18029 1293 774260 1348 799105 1348 582011 1348 389133 1348 765961 1348 3932 1348 98481 1403 856606 1403 18029 1403 389133 1403 517546 1403 178214 1403 582011 1458 561079 1458 426124 1458 765961 1458 3932 1458 178214 1458 881075 1567 582011 1567 850320 1567 561079 1567 18029 1567 426124 1567 774260 1677 98481 1677 881075 1677 799105 1677 582011 1677 869917 1677 774260 1732 98481 1732 786903 1732 799105 1732 582011 1732 850320 1732 384112 1786 98481 1786 881075 1786 799105 1786 582011 1786 850320 1786 266456 1841 117308 1841 881075 1841 303482 1841 582011 1841 850320 1841 774260 1896 98481 1896 881075 1896 327472 1896 765961 1896 517546 1896 774260 1951 856606 1951 561079 1951 327472 1951 765961 1951 509543 1951 799105 2006 856606 2006 426124 2006 389133 2006 3932 2006 509543 2006 850320 2061 18029 2061 426124 2061 88345 2061 426440 2061 300607 2061 774260 2225 799105 2225 582011 2225 698507 2225 561079 2225 426124 2225 98481 2280 799105 2280 850320 2280 856606 2280 18029 2280 541136 2280 881075 2335 582011 2335 850320 2335 765961 2335 517546 2335 3932 2335 774260 2444 799105 2444 582011 2444 856606 2444 561079 2444 426124 2444 98481 2499 799105 2499 850320 2499 856606 2499 18029 2499 426124 2499 881075 2554 582011 2554 850320 2554 765961 2554 517546 2554 3932 2554 774260 2664 799105 2664 582011 2664 856606 2664 561079 2664 426124 2664 98481 2718 799105 2718 850320 2718 856606 2718 18029 2718 978124 2718 881075 2773 582011 2773 869917 2773 765961 2773 517546 2773 3932 2773 384112 2883 799105 2883 582011 2883 327472 2883 765961 2883 3932 2883 117308 2937 388720 2937 18029 2937 753979 2937 88345 2937 719325 2937 582011 2993 765961 2993 3932 2993 1010220 2993 426440 2993 203078 2993 582011 3102 561079 3102 426124 3102 765961 3102 3932 3102 251878 3102 881075 3212 582011 3212 869917 3212 329869 3212 88345 3212 426440 3212 384112 3321 856606 3321 561079 3321 327472 3321 765961 3321 509543 3321 303482 3376 388720 3376 426124 3376 753979 3376 426440 3376 719325 3376 850320 3431 517546 3431 3932 3431 88345 3431 426440 3431 203078 3431 98481 3595 799105 3595 850320 3595 690524 3595 658700 3595 448299 3595 881075 3650 214602 3650 117242 3650 634244 3650 658700 3650 969369 3650 719634 3760 712774 3760 356467 3760 204450 3760 257135 3760 443475 3760 81189 3815 30906 3815 356467 3815 535015 3815 257135 3815 1029080 3815 774260 4199 98481 4199 786903 4199 799105 4199 582011 4199 850320 4199 384112 4253 98481 4253 881075 4253 799105 4253 582011 4253 869917 4253 266456 4308 117308 4308 786903 4308 303482 4308 582011 4308 850320 4308 384112 4363 98481 4363 881075 4363 856606 4363 561079 4363 18029 4363 266456 4418 303482 4418 582011 4418 940355 4418 765961 4418 3932 4418 98481 4473 856606 4473 18029 4473 861207 4473 88345 4473 300607 4473 582011 4527 765961 4527 3932 4527 329869 4527 426440 4527 203078 4527 582011 4637 561079 4637 426124 4637 1010220 4637 426440 4637 719325 4637 881075 4747 561079 4747 18029 4747 765961 4747 517546 4747 178214 4747 98481 4856 799105 4856 850320 4856 856606 4856 18029 4856 426124 4856 881075 4911 582011 4911 850320 4911 561079 4911 18029 4911 426124 4911 774260 5021 98481 5021 881075 5021 412470 5021 412470 5021 412470 5021 774260 5075 412470 5075 412470 5075 412470 5075 412470 5075 412470 5075 908663 471 799327 471 712489 471 790974 471 655154 471 1016881 471 908663 525 799327 525 712489 525 790974 525 655154 525 1016881 525 908663 580 799327 580 712489 580 790974 580 655154 580 1016881 580 908663 635 799327 635 712489 635 790974 635 655154 635 1016881 635 908663 690 799327 690 712489 690 114101 690 652213 690 978587 690 908663 745 135278 745 975031 745 114101 745 240645 745 677434 745 59520 799 915168 799 150859 799 114101 799 466739 799 677434 799 563708 854 839677 854 302890 854 36772 854 18050 854 1039644 854 908663 1074 790974 1074 655154 1074 59520 1074 691984 1074 563708 1074 799327 1128 790974 1128 1016881 1128 59520 1128 99299 1128 563708 1128 712489 1183 655154 1183 1016881 1183 691984 1183 99299 1183 563708 1183 908663 1293 799327 1293 712489 1293 790974 1293 655154 1293 1016881 1293 908663 1348 799327 1348 712489 1348 790974 1348 655154 1348 1016881 1348 908663 1403 799327 1403 712489 1403 59520 1403 691984 1403 99299 1403 908663 1457 790974 1457 655154 1457 59520 1457 691984 1457 563708 1457 799327 1512 790974 1512 1016881 1512 59520 1512 99299 1512 563708 1512 712489 1567 655154 1567 1016881 1567 691984 1567 99299 1567 563708 1567 908663 1677 799327 1677 712489 1677 59520 1677 691984 1677 99299 1677 908663 1731 790974 1731 655154 1731 59520 1731 691984 1731 563708 1731 799327 1786 790974 1786 1016881 1786 59520 1786 99299 1786 563708 1786 712489 1841 655154 1841 1016881 1841 691984 1841 99299 1841 563708 1841 908663 1951 799327 1951 712489 1951 135278 1951 975031 1951 42482 1951 908663 2005 59520 2005 691984 2005 135278 2005 975031 2005 150859 2005 790974 2060 59520 2060 563708 2060 39862 2060 325392 2060 466739 2060 1016881 2115 42482 2115 839677 2115 149581 2115 36772 2115 445171 2115 799327 2280 59520 2280 99299 2280 114101 2280 270891 2280 466739 2280 655154 2334 922866 2334 839677 2334 240645 2334 325392 2334 825663 2334 655154 2444 691984 2444 81683 2444 975031 2444 913187 2444 302890 2444 1029477 2554 655154 2554 1016881 2554 975031 2554 42482 2554 839677 2554 894093 2663 975983 2663 655154 2663 48312 2663 691984 2663 563708 2663 799327 2718 790974 2718 1016881 2718 114101 2718 978587 2718 325392 2718 712489 2773 975031 2773 42482 2773 240645 2773 978587 2773 677434 2773 790974 2883 59520 2883 563708 2883 135278 2883 839677 2883 302890 2883 1016881 2937 99299 2937 563708 2937 978587 2937 325392 2937 466739 2937 908663 3102 790974 3102 655154 3102 135278 3102 975031 3102 839677 3102 799327 3157 59520 3157 99299 3157 135278 3157 42482 3157 150859 3157 655154 3211 691984 3211 563708 3211 975031 3211 839677 3211 150859 3211 712489 3321 655154 3321 1016881 3321 691984 3321 99299 3321 563708 3321 908663 3431 799327 3431 712489 3431 790974 3431 655154 3431 1016881 3431 908663 3486 799327 3486 712489 3486 59520 3486 691984 3486 99299 3486 908663 3540 790974 3540 655154 3540 59520 3540 691984 3540 563708 3540 799327 3595 790974 3595 1016881 3595 994698 3595 25193 3595 744658 3595 712489 3650 620518 3650 354741 3650 53227 3650 25193 3650 24813 3650 586260 3760 849393 3760 392704 3760 323464 3760 670664 3760 687439 3760 296149 3814 259043 3814 392704 3814 28929 3814 17373 3814 586119 3814 908663 4198 790974 4198 655154 4198 59520 4198 691984 4198 563708 4198 799327 4253 790974 4253 1016881 4253 135278 4253 42482 4253 839677 4253 712489 4308 691984 4308 99299 4308 975031 4308 42482 4308 150859 4308 799327 4417 790974 4417 1016881 4417 59520 4417 99299 4417 563708 4417 712489 4472 655154 4472 1016881 4472 691984 4472 99299 4472 563708 4472 908663 4582 799327 4582 712489 4582 59520 4582 691984 4582 99299 4582 908663 4637 790974 4637 655154 4637 59520 4637 691984 4637 563708 4637 799327 4691 790974 4691 1016881 4691 59520 4691 99299 4691 480473 4691 712489 4746 655154 4746 317253 4746 975031 4746 42482 4746 839677 4746 912720 4856 790974 4856 655154 4856 59520 4856 691984 4856 563708 4856 30821 4911 975983 4911 1016881 4911 48312 4911 99299 4911 563708 4911 712489 4966 655154 4966 1016881 4966 809256 4966 809256 4966 809256 4966 908663 5075 809256 5075 809256 5075 809256 5075 809256 5075 809256 5075\n"
     ]
    }
   ],
   "source": [
    "_id = 123;\n",
    "\n",
    "print(_id)\n",
    "\n",
    "# check insertion\n",
    "_retrieved_code = fp.fp_code_for_track_id(\"%s\" % _id)\n",
    "\n",
    "print _retrieved_code"
   ]
  },
  {
   "cell_type": "code",
   "execution_count": 13,
   "metadata": {},
   "outputs": [
    {
     "name": "stderr",
     "output_type": "stream",
     "text": [
      "\u001b[36m17  base.audio.echoprint     DEBUG    echoprint binary: /usr/local/bin/echoprint-codegen\u001b[0m\n",
      "\u001b[01;32m35  base.audio.echoprint     INFO     echoprint result - version: 4.12 - duration: 237\u001b[0m\n"
     ]
    },
    {
     "name": "stdout",
     "output_type": "stream",
     "text": [
      "{'total_time': 302, 'code': 7, 'TRID': None, 'qtime': 58, 'score': 0, 'metadata': {}}\n"
     ]
    }
   ],
   "source": [
    "from ep.API import fp\n",
    "\n",
    "c_path = '/Users/ohrstrom/Desktop/__obp/speak.flac'\n",
    "\n",
    "# create fp to chek in db\n",
    "c_code, c_version, c_duration, c_echoprint = echoprint_from_path(c_path, offset=60, duration=40)\n",
    "\n",
    "\n",
    "c_res = fp.best_match_for_query(code_string=c_code, elbow=10)\n",
    "print c_res.__dict__\n",
    "\n",
    "#c_fp = fp.query_fp(code_string=fp.decode_code_string(c_code))\n",
    "#print c_fp.results\n"
   ]
  },
  {
   "cell_type": "code",
   "execution_count": null,
   "metadata": {
    "collapsed": true
   },
   "outputs": [],
   "source": []
  }
 ],
 "metadata": {
  "kernelspec": {
   "display_name": "Django Shell-Plus",
   "language": "python",
   "name": "django_extensions"
  },
  "language_info": {
   "codemirror_mode": {
    "name": "ipython",
    "version": 2
   },
   "file_extension": ".py",
   "mimetype": "text/x-python",
   "name": "python",
   "nbconvert_exporter": "python",
   "pygments_lexer": "ipython2",
   "version": "2.7.10"
  }
 },
 "nbformat": 4,
 "nbformat_minor": 2
}
