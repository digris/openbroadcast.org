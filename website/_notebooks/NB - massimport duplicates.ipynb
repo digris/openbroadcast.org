{
 "cells": [
  {
   "cell_type": "code",
   "execution_count": 8,
   "metadata": {
    "collapsed": true
   },
   "outputs": [],
   "source": []
  },
  {
   "cell_type": "code",
   "execution_count": 2,
   "metadata": {},
   "outputs": [
    {
     "name": "stdout",
     "output_type": "stream",
     "text": [
      "9\n",
      "0\n"
     ]
    }
   ],
   "source": [
    "from django.db import connection\n",
    "connection.close()\n",
    "\n",
    "mi_uuid = Massimport.objects.get(id=46).uuid\n",
    "imp_s = Import.objects.get(uuid_key=str(mi_uuid))\n",
    "\n",
    "qs = imp_s.files.all()\n",
    "qs_dup = qs.filter(status=ImportFile.STATUS_DUPLICATE)\n",
    "qs_done = qs.filter(status=ImportFile.STATUS_DONE)\n",
    "print(qs.count())\n",
    "print(qs_dup.count())"
   ]
  },
  {
   "cell_type": "code",
   "execution_count": null,
   "metadata": {
    "collapsed": true
   },
   "outputs": [],
   "source": []
  },
  {
   "cell_type": "code",
   "execution_count": 46,
   "metadata": {},
   "outputs": [
    {
     "name": "stdout",
     "output_type": "stream",
     "text": [
      "[<Media: Cada vez que nos miramos (Soleá)>, <Media: Cada vez que nos miramos>]\n",
      "430517\n"
     ]
    }
   ],
   "source": [
    "from django.db import connection\n",
    "connection.close()\n",
    "\n",
    "m = Media.objects.filter(relations__url__contains='/recording/3901df29-5dda-4542-b7a7-f9a903c16480')\n",
    "print(m)\n",
    "print(m[0].pk)"
   ]
  },
  {
   "cell_type": "code",
   "execution_count": 16,
   "metadata": {},
   "outputs": [
    {
     "ename": "DoesNotExist",
     "evalue": "Media matching query does not exist.",
     "output_type": "error",
     "traceback": [
      "\u001b[0;31m---------------------------------------------------------------------------\u001b[0m",
      "\u001b[0;31mDoesNotExist\u001b[0m                              Traceback (most recent call last)",
      "\u001b[0;32m<ipython-input-16-ea394cc42e67>\u001b[0m in \u001b[0;36m<module>\u001b[0;34m()\u001b[0m\n\u001b[0;32m----> 1\u001b[0;31m \u001b[0mMedia\u001b[0m\u001b[0;34m.\u001b[0m\u001b[0mobjects\u001b[0m\u001b[0;34m.\u001b[0m\u001b[0mget\u001b[0m\u001b[0;34m(\u001b[0m\u001b[0mpk\u001b[0m\u001b[0;34m=\u001b[0m\u001b[0;36m430517\u001b[0m\u001b[0;34m)\u001b[0m\u001b[0;34m.\u001b[0m\u001b[0mrelations\u001b[0m\u001b[0;34m.\u001b[0m\u001b[0mfilter\u001b[0m\u001b[0;34m(\u001b[0m\u001b[0murl__contains\u001b[0m\u001b[0;34m=\u001b[0m\u001b[0;34m'musicbrainz.org/recording/'\u001b[0m\u001b[0;34m)\u001b[0m\u001b[0;34m.\u001b[0m\u001b[0mexists\u001b[0m\u001b[0;34m(\u001b[0m\u001b[0;34m)\u001b[0m\u001b[0;34m\u001b[0m\u001b[0m\n\u001b[0m",
      "\u001b[0;32m/Users/ohrstrom/srv/openbroadcast.org/lib/python2.7/site-packages/django/db/models/manager.pyc\u001b[0m in \u001b[0;36mmanager_method\u001b[0;34m(self, *args, **kwargs)\u001b[0m\n\u001b[1;32m    125\u001b[0m         \u001b[0;32mdef\u001b[0m \u001b[0mcreate_method\u001b[0m\u001b[0;34m(\u001b[0m\u001b[0mname\u001b[0m\u001b[0;34m,\u001b[0m \u001b[0mmethod\u001b[0m\u001b[0;34m)\u001b[0m\u001b[0;34m:\u001b[0m\u001b[0;34m\u001b[0m\u001b[0m\n\u001b[1;32m    126\u001b[0m             \u001b[0;32mdef\u001b[0m \u001b[0mmanager_method\u001b[0m\u001b[0;34m(\u001b[0m\u001b[0mself\u001b[0m\u001b[0;34m,\u001b[0m \u001b[0;34m*\u001b[0m\u001b[0margs\u001b[0m\u001b[0;34m,\u001b[0m \u001b[0;34m**\u001b[0m\u001b[0mkwargs\u001b[0m\u001b[0;34m)\u001b[0m\u001b[0;34m:\u001b[0m\u001b[0;34m\u001b[0m\u001b[0m\n\u001b[0;32m--> 127\u001b[0;31m                 \u001b[0;32mreturn\u001b[0m \u001b[0mgetattr\u001b[0m\u001b[0;34m(\u001b[0m\u001b[0mself\u001b[0m\u001b[0;34m.\u001b[0m\u001b[0mget_queryset\u001b[0m\u001b[0;34m(\u001b[0m\u001b[0;34m)\u001b[0m\u001b[0;34m,\u001b[0m \u001b[0mname\u001b[0m\u001b[0;34m)\u001b[0m\u001b[0;34m(\u001b[0m\u001b[0;34m*\u001b[0m\u001b[0margs\u001b[0m\u001b[0;34m,\u001b[0m \u001b[0;34m**\u001b[0m\u001b[0mkwargs\u001b[0m\u001b[0;34m)\u001b[0m\u001b[0;34m\u001b[0m\u001b[0m\n\u001b[0m\u001b[1;32m    128\u001b[0m             \u001b[0mmanager_method\u001b[0m\u001b[0;34m.\u001b[0m\u001b[0m__name__\u001b[0m \u001b[0;34m=\u001b[0m \u001b[0mmethod\u001b[0m\u001b[0;34m.\u001b[0m\u001b[0m__name__\u001b[0m\u001b[0;34m\u001b[0m\u001b[0m\n\u001b[1;32m    129\u001b[0m             \u001b[0mmanager_method\u001b[0m\u001b[0;34m.\u001b[0m\u001b[0m__doc__\u001b[0m \u001b[0;34m=\u001b[0m \u001b[0mmethod\u001b[0m\u001b[0;34m.\u001b[0m\u001b[0m__doc__\u001b[0m\u001b[0;34m\u001b[0m\u001b[0m\n",
      "\u001b[0;32m/Users/ohrstrom/srv/openbroadcast.org/lib/python2.7/site-packages/django/db/models/query.pyc\u001b[0m in \u001b[0;36mget\u001b[0;34m(self, *args, **kwargs)\u001b[0m\n\u001b[1;32m    332\u001b[0m             raise self.model.DoesNotExist(\n\u001b[1;32m    333\u001b[0m                 \u001b[0;34m\"%s matching query does not exist.\"\u001b[0m \u001b[0;34m%\u001b[0m\u001b[0;34m\u001b[0m\u001b[0m\n\u001b[0;32m--> 334\u001b[0;31m                 \u001b[0mself\u001b[0m\u001b[0;34m.\u001b[0m\u001b[0mmodel\u001b[0m\u001b[0;34m.\u001b[0m\u001b[0m_meta\u001b[0m\u001b[0;34m.\u001b[0m\u001b[0mobject_name\u001b[0m\u001b[0;34m\u001b[0m\u001b[0m\n\u001b[0m\u001b[1;32m    335\u001b[0m             )\n\u001b[1;32m    336\u001b[0m         raise self.model.MultipleObjectsReturned(\n",
      "\u001b[0;31mDoesNotExist\u001b[0m: Media matching query does not exist."
     ]
    }
   ],
   "source": [
    "Media.objects.get(pk=430517).relations.filter(url__contains='musicbrainz.org/recording/').exists()"
   ]
  },
  {
   "cell_type": "code",
   "execution_count": null,
   "metadata": {
    "collapsed": true
   },
   "outputs": [],
   "source": []
  },
  {
   "cell_type": "code",
   "execution_count": null,
   "metadata": {
    "collapsed": true
   },
   "outputs": [],
   "source": []
  },
  {
   "cell_type": "code",
   "execution_count": 18,
   "metadata": {},
   "outputs": [],
   "source": [
    "import ntpath\n",
    "for item in qs_dup:\n",
    "    m_name = item.media.name.replace(u\"’\", u\"'\")\n",
    "    m_orig = ntpath.basename(item.filename).replace(u\"’\", u\"'\")\n",
    "    #print(u'{}\\t\\t{}'.format(item.media.name, ntpath.basename(item.filename)))\n",
    "    if not (m_name.lower() in m_orig.lower()):\n",
    "        print(u'{}\\t\\t{}'.format(item.media.name, ntpath.basename(item.filename)))\n",
    "    "
   ]
  },
  {
   "cell_type": "code",
   "execution_count": null,
   "metadata": {
    "collapsed": true
   },
   "outputs": [],
   "source": []
  },
  {
   "cell_type": "code",
   "execution_count": null,
   "metadata": {
    "collapsed": true
   },
   "outputs": [],
   "source": []
  },
  {
   "cell_type": "code",
   "execution_count": 19,
   "metadata": {
    "scrolled": false
   },
   "outputs": [
    {
     "name": "stdout",
     "output_type": "stream",
     "text": [
      "**********************\n",
      "9\n",
      "0\n"
     ]
    }
   ],
   "source": [
    "from django.db import connection\n",
    "connection.close()\n",
    "\n",
    "import ntpath\n",
    "from fprint_client.api_client import FprintAPIClient\n",
    "from fprint_client.utils import fprint_from_path\n",
    "\n",
    "FPRINT_MIN_SCORE = 0.08\n",
    "\n",
    "# search for exact duplicates by name (title & artist)\n",
    "p_dupes = []\n",
    "for item in qs_done:\n",
    "    \n",
    "    if not (item.media.master and item.media.master_duration):\n",
    "        continue\n",
    "    \n",
    "    m_name = item.media.name\n",
    "    a_name = item.media.artist.name\n",
    "    dupe_qs = Media.objects.exclude(pk=item.media.pk).filter(name=m_name, artist__name=a_name)\n",
    "    \n",
    "    d_range = (item.media.master_duration - 1.0, item.media.master_duration + 1.0)\n",
    "    \n",
    "    dupe_qs = dupe_qs.filter(master_duration__range=d_range)\n",
    "    \n",
    "    if dupe_qs.exists():\n",
    "        p_dupes.append(item)\n",
    "        print(u'{}\\t{} - {} - {}'.format(item.media.master_duration, m_name, a_name, item.media.release.name))\n",
    "        for dupe in dupe_qs:\n",
    "            print(u'{}\\t{} - {} - {}'.format(dupe.master_duration, dupe.name, dupe.artist.name, dupe.release.name))\n",
    "        # print(dupe_qs.count())\n",
    "        \n",
    "        # testing fprint\n",
    "        #print('- get matches via fprint')\n",
    "        #fprint = fprint_from_path(item.media.master.path)\n",
    "        #results = FprintAPIClient().identify(fprint=fprint, min_score=FPRINT_MIN_SCORE)\n",
    "        \n",
    "        #print('fprint num results: {}'.format(len(results)))\n",
    "        \n",
    "        #for result in results:\n",
    "        #    print('score: {}'.format(result['score']))\n",
    "            \n",
    "    \n",
    "        #print('--')\n",
    "        \n",
    "print('**********************')\n",
    "print(qs_done.count())\n",
    "print(len(p_dupes))"
   ]
  }
 ],
 "metadata": {
  "kernelspec": {
   "display_name": "Django Shell-Plus",
   "language": "python",
   "name": "django_extensions"
  },
  "language_info": {
   "codemirror_mode": {
    "name": "ipython",
    "version": 2
   },
   "file_extension": ".py",
   "mimetype": "text/x-python",
   "name": "python",
   "nbconvert_exporter": "python",
   "pygments_lexer": "ipython2",
   "version": "2.7.10"
  }
 },
 "nbformat": 4,
 "nbformat_minor": 2
}
