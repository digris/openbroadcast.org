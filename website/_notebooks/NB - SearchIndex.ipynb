{
 "cells": [
  {
   "cell_type": "code",
   "execution_count": 1,
   "metadata": {},
   "outputs": [
    {
     "name": "stderr",
     "output_type": "stream",
     "text": [
      "63  elasticsearch            INFO     GET http://127.0.0.1:9200/org_openbroadcast_aaa/_mapping [status:200 request:0.001s]\n",
      "65  elasticsearch            DEBUG    > None\n",
      "66  elasticsearch            DEBUG    < {\"org_openbroadcast_aaa\":{\"mappings\":{\"modelresult\":{\"properties\":{\"django_ct\":{\"type\":\"string\",\"index\":\"not_analyzed\",\"include_in_all\":false},\"django_id\":{\"type\":\"string\",\"index\":\"not_analyzed\",\"include_in_all\":false},\"id\":{\"type\":\"string\"},\"name\":{\"type\":\"string\",\"boost\":1.5,\"analyzer\":\"edgengram_analyzer\"},\"releasedate\":{\"type\":\"date\",\"format\":\"strict_date_optional_time||epoch_millis\"},\"text\":{\"type\":\"string\",\"analyzer\":\"snowball\"},\"type\":{\"type\":\"string\",\"analyzer\":\"snowball\"},\"user_pk\":{\"type\":\"long\"}}}}}}\n",
      "No handlers could be found for logger \"elasticsearch.trace\"\n",
      "63  elasticsearch            INFO     PUT http://127.0.0.1:9200/org_openbroadcast_aaa [status:400 request:0.002s]\n",
      "65  elasticsearch            DEBUG    > {\"settings\": {\"analysis\": {\"filter\": {\"haystack_edgengram\": {\"max_gram\": 15, \"type\": \"edgeNGram\", \"min_gram\": 2}, \"haystack_ngram\": {\"max_gram\": 15, \"type\": \"nGram\", \"min_gram\": 3}}, \"tokenizer\": {\"custom_edgengram_tokenizer\": {\"max_gram\": 12, \"token_chars\": [\"letter\", \"digit\"], \"type\": \"edgeNGram\", \"min_gram\": 2}, \"custom_ngram_tokenizer\": {\"max_gram\": 12, \"token_chars\": [\"letter\", \"digit\"], \"type\": \"nGram\", \"min_gram\": 3}}, \"analyzer\": {\"default\": {\"filter\": [\"asciifolding\", \"lowercase\"], \"type\": \"standard\"}, \"edgengram_analyzer\": {\"filter\": [\"asciifolding\", \"lowercase\"], \"type\": \"custom\", \"tokenizer\": \"custom_edgengram_tokenizer\"}, \"ngram_analyzer\": {\"filter\": [\"asciifolding\", \"lowercase\"], \"type\": \"custom\", \"tokenizer\": \"custom_ngram_tokenizer\"}}}}}\n",
      "66  elasticsearch            DEBUG    < {\"error\":{\"root_cause\":[{\"type\":\"index_already_exists_exception\",\"reason\":\"already exists\",\"index\":\"org_openbroadcast_aaa\"}],\"type\":\"index_already_exists_exception\",\"reason\":\"already exists\",\"index\":\"org_openbroadcast_aaa\"},\"status\":400}\n",
      "63  elasticsearch            INFO     PUT http://127.0.0.1:9200/org_openbroadcast_aaa/_mapping/modelresult [status:200 request:0.011s]\n",
      "65  elasticsearch            DEBUG    > {\"modelresult\": {\"properties\": {\"user_pk\": {\"type\": \"long\"}, \"django_id\": {\"include_in_all\": false, \"index\": \"not_analyzed\", \"type\": \"string\"}, \"name\": {\"boost\": 1.5, \"type\": \"string\", \"analyzer\": \"edgengram_analyzer\"}, \"text\": {\"type\": \"string\", \"analyzer\": \"snowball\"}, \"django_ct\": {\"include_in_all\": false, \"index\": \"not_analyzed\", \"type\": \"string\"}, \"releasedate\": {\"type\": \"date\"}, \"type\": {\"type\": \"string\", \"analyzer\": \"snowball\"}}}}\n",
      "66  elasticsearch            DEBUG    < {\"acknowledged\":true}\n",
      "63  elasticsearch            INFO     GET http://127.0.0.1:9200/org_openbroadcast_aaa/modelresult/_search?_source=true [status:200 request:0.002s]\n",
      "65  elasticsearch            DEBUG    > {\"query\": {\"filtered\": {\"filter\": {\"terms\": {\"django_ct\": [\"alibrary.artist\"]}}, \"query\": {\"query_string\": {\"fuzzy_max_expansions\": 50, \"auto_generate_phrase_queries\": true, \"default_operator\": \"AND\", \"analyze_wildcard\": true, \"query\": \"(zuri west)\", \"default_field\": \"text\", \"fuzzy_min_sim\": 0.5}}}}, \"from\": 0, \"size\": 1}\n",
      "66  elasticsearch            DEBUG    < {\"took\":1,\"timed_out\":false,\"_shards\":{\"total\":5,\"successful\":5,\"failed\":0},\"hits\":{\"total\":0,\"max_score\":null,\"hits\":[]}}\n"
     ]
    },
    {
     "name": "stdout",
     "output_type": "stream",
     "text": [
      "###########################################\n",
      "{u'query': {u'filtered': {u'filter': {u'terms': {u'django_ct': [u'alibrary.artist']}}, u'query': {u'query_string': {u'fuzzy_max_expansions': 50, u'auto_generate_phrase_queries': True, u'default_operator': u'AND', u'analyze_wildcard': True, u'query': u'(zuri west)', u'default_field': u'text', u'fuzzy_min_sim': 0.5}}}}, u'from': 0, u'size': 1}\n",
      "###########################################\n",
      "0\n"
     ]
    }
   ],
   "source": [
    "from haystack.inputs import AutoQuery\n",
    "from haystack.query import SearchQuerySet, EmptySearchQuerySet, SQ\n",
    "\n",
    "from alibrary.models import Artist\n",
    "\n",
    "q = u'zuri west'\n",
    "\n",
    "sqs = SearchQuerySet().models(Artist).filter(content=AutoQuery(q))\n",
    "\n",
    "print (sqs.count())"
   ]
  },
  {
   "cell_type": "code",
   "execution_count": 34,
   "metadata": {},
   "outputs": [
    {
     "name": "stderr",
     "output_type": "stream",
     "text": [
      "63  elasticsearch            INFO     GET http://127.0.0.1:9200/org_openbroadcast_aaa/modelresult/_search?_source=true [status:200 request:0.002s]\n",
      "65  elasticsearch            DEBUG    > {\"query\": {\"filtered\": {\"filter\": {\"terms\": {\"django_ct\": [\"alibrary.artist\"]}}, \"query\": {\"query_string\": {\"fuzzy_max_expansions\": 50, \"auto_generate_phrase_queries\": true, \"default_operator\": \"AND\", \"query\": \"(zuri west)\", \"analyze_wildcard\": true, \"default_field\": \"text\", \"fuzzy_min_sim\": 0.5}}}}, \"from\": 0, \"size\": 1}\n",
      "66  elasticsearch            DEBUG    < {\"took\":1,\"timed_out\":false,\"_shards\":{\"total\":5,\"successful\":5,\"failed\":0},\"hits\":{\"total\":0,\"max_score\":null,\"hits\":[]}}\n"
     ]
    },
    {
     "name": "stdout",
     "output_type": "stream",
     "text": [
      "num. results: 0\n",
      "[]\n"
     ]
    }
   ],
   "source": [
    "from elasticsearch import Elasticsearch\n",
    "conn = Elasticsearch('http://127.0.0.1:9200/', timeout=120)\n",
    "\n",
    "\n",
    "body = {\n",
    "    u'query': {\n",
    "        u'filtered': {\n",
    "            u'filter': {\n",
    "                u'terms': {\n",
    "                    u'django_ct': [u'alibrary.artist']\n",
    "                }\n",
    "            }, \n",
    "            u'query': {\n",
    "                u'query_string': {\n",
    "                    u'fuzzy_max_expansions': 50, \n",
    "                    u'auto_generate_phrase_queries': True, \n",
    "                    u'default_operator': u'AND', \n",
    "                    u'analyze_wildcard': True, \n",
    "                    u'query': u'(zuri west)',\n",
    "                    u'default_field': u'text', \n",
    "                    u'fuzzy_min_sim': 0.5\n",
    "                }\n",
    "            }\n",
    "        }\n",
    "    }, \n",
    "    u'from': 0, u'size': 1\n",
    "}\n",
    "\n",
    "raw_results = conn.search(body=body, index='org_openbroadcast_aaa', doc_type='modelresult', _source=True)\n",
    "\n",
    "print('num. results: {}'.format(len(raw_results['hits']['hits'])))\n",
    "print(raw_results['hits']['hits'])\n"
   ]
  },
  {
   "cell_type": "code",
   "execution_count": null,
   "metadata": {
    "collapsed": true
   },
   "outputs": [],
   "source": []
  }
 ],
 "metadata": {
  "kernelspec": {
   "display_name": "Django Shell-Plus",
   "language": "python",
   "name": "django_extensions"
  },
  "language_info": {
   "codemirror_mode": {
    "name": "ipython",
    "version": 2
   },
   "file_extension": ".py",
   "mimetype": "text/x-python",
   "name": "python",
   "nbconvert_exporter": "python",
   "pygments_lexer": "ipython2",
   "version": "2.7.10"
  }
 },
 "nbformat": 4,
 "nbformat_minor": 2
}
