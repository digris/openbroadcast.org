{
 "cells": [
  {
   "cell_type": "markdown",
   "metadata": {},
   "source": [
    "# Platform Statistics\n",
    "\n"
   ]
  },
  {
   "cell_type": "code",
   "execution_count": 1,
   "metadata": {},
   "outputs": [
    {
     "name": "stdout",
     "output_type": "stream",
     "text": [
      "Total Counts\n"
     ]
    },
    {
     "data": {
      "text/plain": [
       "{'artist': 37114,\n",
       " 'label': 7110,\n",
       " 'media': 142211,\n",
       " 'playlist': 907,\n",
       " 'relation': 385026,\n",
       " 'release': 19940,\n",
       " 'user': 813}"
      ]
     },
     "metadata": {},
     "output_type": "display_data"
    }
   ],
   "source": [
    "%load_ext autoreload\n",
    "%autoreload 2\n",
    "%matplotlib inline\n",
    "\n",
    "from IPython.display import display, Markdown\n",
    "import matplotlib.pyplot as plt\n",
    "\n",
    "\n",
    "# reset db connection\n",
    "from django.db import connection\n",
    "connection.close()\n",
    "\n",
    "%timeit\n",
    "media_qs = Media.objects.all()\n",
    "artist_qs = Artist.objects.all()\n",
    "release_qs = Release.objects.all()\n",
    "label_qs = Label.objects.all()\n",
    "playlist_qs = Playlist.objects.all()\n",
    "user_qs = User.objects.all()\n",
    "relation_qs = Relation.objects.all()\n",
    "\n",
    "\n",
    "total_counts = {\n",
    "    'media': media_qs.count(),\n",
    "    'artist': artist_qs.count(),\n",
    "    'release': release_qs.count(),\n",
    "    'label': label_qs.count(),\n",
    "    'playlist': playlist_qs.count(),\n",
    "    'relation': relation_qs.count(),\n",
    "    'user': user_qs.count(),\n",
    "}\n",
    "\n",
    "\n",
    "print('Total Counts')\n",
    "display(total_counts)\n",
    "\n",
    "#plt.plot([(v, k) for k, v in total_counts.iteritems()])\n",
    "\n",
    "\n",
    "# filter items without image\n",
    "# release_qs.filter(main_image='').count()\n",
    "\n"
   ]
  },
  {
   "cell_type": "code",
   "execution_count": 23,
   "metadata": {},
   "outputs": [
    {
     "name": "stdout",
     "output_type": "stream",
     "text": [
      "total:         19940\n",
      "with mb:       13614\n",
      "without mb:    6326\n",
      "without image: 115\n",
      "21\n"
     ]
    },
    {
     "data": {
      "text/plain": [
       "[<Relation: http://musicbrainz.org/release/df717881-2a34-4760-832d-619ca3313a62>]"
      ]
     },
     "execution_count": 23,
     "metadata": {},
     "output_type": "execute_result"
    }
   ],
   "source": [
    "release_qs_with_mb = release_qs.filter(relations__service='musicbrainz')\n",
    "release_qs_without_mb = release_qs.exclude(pk__in=release_qs_with_mb)\n",
    "\n",
    "release_qs_without_image = release_qs.filter(main_image='')\n",
    "\n",
    "print('total:         {}'.format(release_qs.count()))\n",
    "print('with mb:       {}'.format(release_qs_with_mb.count()))\n",
    "print('without mb:    {}'.format(release_qs_without_mb.count()))\n",
    "print('without image: {}'.format(release_qs_without_image.count()))\n",
    "\n",
    "\n",
    "\n",
    "release_qs_with_mb_without_image = (release_qs_without_image & release_qs_with_mb)\n",
    "\n",
    "print(release_qs_with_mb_without_image.count())\n",
    "\n",
    "_x = release_qs_with_mb_without_image.first()\n",
    "_x.relations.filter(service='musicbrainz')\n",
    "#_x.get_absolute_url()\n",
    "\n"
   ]
  },
  {
   "cell_type": "code",
   "execution_count": 24,
   "metadata": {},
   "outputs": [
    {
     "name": "stdout",
     "output_type": "stream",
     "text": [
      "[u'bandcamp', u'discogs', u'discogs_master', u'facebook', u'itunes', u'lastfm', u'linkedin', u'musicbrainz', u'soundcloud', u'twitter', u'wikipedia', u'youtube']\n"
     ]
    }
   ],
   "source": [
    "# reset db connection\n",
    "from django.db import connection\n",
    "connection.close()\n",
    "\n",
    "\n",
    "_x = relation_qs.exclude(service__in=['generic', 'official',]).order_by('service').values_list('service', flat=True).distinct()\n",
    "print(_x)"
   ]
  },
  {
   "cell_type": "markdown",
   "metadata": {},
   "source": [
    "## summarized stats"
   ]
  },
  {
   "cell_type": "code",
   "execution_count": 31,
   "metadata": {},
   "outputs": [
    {
     "name": "stdout",
     "output_type": "stream",
     "text": [
      "The autoreload extension is already loaded. To reload it, use:\n",
      "  %reload_ext autoreload\n"
     ]
    },
    {
     "data": {
      "image/png": "[encoded data removed]",
      "text/plain": [
       "<matplotlib.figure.Figure at 0xa4fe410>"
      ]
     },
     "metadata": {},
     "output_type": "display_data"
    }
   ],
   "source": [
    "%load_ext autoreload\n",
    "%autoreload 22\n",
    "%matplotlib inline\n",
    "\n",
    "import matplotlib.pyplot as plt\n",
    "import numpy as np\n",
    "\n",
    "import qsstats\n",
    "import datetime\n",
    "\n",
    "# reset db connection\n",
    "from django.db import connection\n",
    "connection.close()\n",
    "\n",
    "\n",
    "today = datetime.date.today()\n",
    "five_years_ago = today - datetime.timedelta(days=1460)\n",
    "\n",
    "relation_qss = qsstats.QuerySetStats(relation_qs, 'created')\n",
    "relation_ts = relation_qss.time_series(five_years_ago, today, interval='months')\n",
    "\n",
    "#print([t[1] for t in relation_ts])\n",
    "\n",
    "\n",
    "def sum_series(series):\n",
    "    total = 0\n",
    "    summed_series = []\n",
    "    for i in series:\n",
    "        total += i\n",
    "        summed_series.append(total)\n",
    "    return summed_series\n",
    "    \n",
    "\n",
    "summed_stats = sum_series([t[1] for t in relation_ts])\n",
    "\n",
    "\n",
    "n_groups = len(summed_stats)\n",
    "\n",
    "plt.rcParams['figure.figsize'] = (16,8)\n",
    "\n",
    "fig, ax = plt.subplots()\n",
    "index = np.arange(n_groups)\n",
    "bar_width = 0.2\n",
    "\n",
    "opacity = 0.7\n",
    "error_config = {'ecolor': '0.3'}\n",
    "\n",
    "rects1 = ax.bar(index, summed_stats, bar_width,\n",
    "                alpha=opacity, color='#00FFFF',\n",
    "                error_kw=error_config,\n",
    "                label='SUM')\n",
    "\n",
    "ax.set_title('Additions last 24 Months')\n",
    "ax.set_xlabel('Month')\n",
    "ax.set_ylabel('SUM')\n",
    "ax.set_xticks(index + bar_width / 2)\n",
    "\n",
    "ax.legend()\n",
    "fig.tight_layout()\n",
    "\n",
    "plt.show()\n",
    "\n",
    "    \n"
   ]
  },
  {
   "cell_type": "markdown",
   "metadata": {},
   "source": [
    "# Testing Plots"
   ]
  },
  {
   "cell_type": "code",
   "execution_count": 6,
   "metadata": {},
   "outputs": [
    {
     "name": "stdout",
     "output_type": "stream",
     "text": [
      "The autoreload extension is already loaded. To reload it, use:\n",
      "  %reload_ext autoreload\n"
     ]
    },
    {
     "data": {
      "image/png": "[encoded data removed]",
      "text/plain": [
       "<matplotlib.figure.Figure at 0x7fddfc318590>"
      ]
     },
     "metadata": {},
     "output_type": "display_data"
    }
   ],
   "source": [
    "%load_ext autoreload\n",
    "%autoreload 2\n",
    "%matplotlib inline\n",
    "\n",
    "import matplotlib.pyplot as plt\n",
    "import numpy as np\n",
    "\n",
    "import qsstats\n",
    "import datetime\n",
    "\n",
    "# reset db connection\n",
    "from django.db import connection\n",
    "connection.close()\n",
    "\n",
    "\n",
    "today = datetime.date.today()\n",
    "twelve_months_ago = today - datetime.timedelta(days=730)\n",
    "\n",
    "relation_qss = qsstats.QuerySetStats(relation_qs, 'created')\n",
    "relation_ts = relation_qss.time_series(twelve_months_ago, today, interval='months')\n",
    "\n",
    "\n",
    "relation_stats = [t[1] for t in relation_ts]\n",
    "\n",
    "n_groups = 25\n",
    "\n",
    "plt.rcParams['figure.figsize'] = (16,8)\n",
    "\n",
    "fig, ax = plt.subplots()\n",
    "\n",
    "#fig.set_size_inches()\n",
    "\n",
    "index = np.arange(n_groups)\n",
    "bar_width = 0.2\n",
    "\n",
    "opacity = 0.7\n",
    "error_config = {'ecolor': '0.3'}\n",
    "\n",
    "rects1 = ax.bar(index, relation_stats, bar_width,\n",
    "                alpha=opacity, color='#00FFFF',\n",
    "                error_kw=error_config,\n",
    "                label='Relations')\n",
    "\n",
    "ax.set_title('Additions last 24 Months')\n",
    "ax.set_xlabel('Month')\n",
    "ax.set_ylabel('Additions')\n",
    "ax.set_xticks(index + bar_width / 2)\n",
    "ax.set_xticklabels([t[0].strftime(\"%B\") for t in relation_ts])\n",
    "\n",
    "ax.legend()\n",
    "fig.tight_layout()\n",
    "\n",
    "plt.show()\n",
    "\n",
    "\n",
    "\n"
   ]
  },
  {
   "cell_type": "code",
   "execution_count": 2,
   "metadata": {},
   "outputs": [
    {
     "name": "stdout",
     "output_type": "stream",
     "text": [
      "The autoreload extension is already loaded. To reload it, use:\n",
      "  %reload_ext autoreload\n",
      "[1435, 698, 1812, 1206, 1794, 1177, 1028, 645, 959, 505, 556, 688, 0]\n",
      "[1111, 291, 883, 368, 354, 183, 186, 215, 1647, 2955, 1845, 3092, 0]\n"
     ]
    },
    {
     "data": {
      "image/png": "[encoded data removed]",
      "text/plain": [
       "<matplotlib.figure.Figure at 0x9a03d10>"
      ]
     },
     "metadata": {},
     "output_type": "display_data"
    }
   ],
   "source": [
    "%load_ext autoreload\n",
    "%autoreload 2\n",
    "%matplotlib inline\n",
    "\n",
    "import matplotlib.pyplot as plt\n",
    "import numpy as np\n",
    "\n",
    "import qsstats\n",
    "import datetime\n",
    "\n",
    "# reset db connection\n",
    "from django.db import connection\n",
    "connection.close()\n",
    "\n",
    "today = datetime.date.today()\n",
    "seven_days_ago = today - datetime.timedelta(days=365)\n",
    "\n",
    "\n",
    "\n",
    "media_qss = qsstats.QuerySetStats(media_qs, 'created')\n",
    "artist_qss = qsstats.QuerySetStats(artist_qs, 'created')\n",
    "\n",
    "media_ts = media_qss.time_series(seven_days_ago, today, interval='months')\n",
    "artist_ts = artist_qss.time_series(seven_days_ago, today, interval='months')\n",
    "\n",
    "#print(time_series)\n",
    "\n",
    "\n",
    "media_stats = [t[1] for t in media_ts]\n",
    "artist_stats = [t[1] for t in artist_ts]\n",
    "\n",
    "print(media_stats)\n",
    "print(artist_stats)\n",
    "\n",
    "n_groups = 13\n",
    "\n",
    "plt.rcParams['figure.figsize'] = (16,8)\n",
    "\n",
    "fig, ax = plt.subplots()\n",
    "\n",
    "#fig.set_size_inches()\n",
    "\n",
    "index = np.arange(n_groups)\n",
    "bar_width = 0.2\n",
    "\n",
    "opacity = 0.7\n",
    "error_config = {'ecolor': '0.3'}\n",
    "\n",
    "rects1 = ax.bar(index, media_stats, bar_width,\n",
    "                alpha=opacity, color='#00FFFF',\n",
    "                error_kw=error_config,\n",
    "                label='Tracks')\n",
    "\n",
    "rects2 = ax.bar(index + bar_width + 0.1, artist_stats, bar_width,\n",
    "                alpha=opacity, color='#FF00FF',\n",
    "                error_kw=error_config,\n",
    "                label='Artists')\n",
    "\n",
    "\n",
    "\n",
    "ax.set_title('Additions last 12 Months')\n",
    "ax.set_xlabel('Month')\n",
    "ax.set_ylabel('Additions')\n",
    "ax.set_xticks(index + bar_width / 2)\n",
    "ax.set_xticklabels([t[0].strftime(\"%B\") for t in media_ts])\n",
    "\n",
    "ax.legend()\n",
    "fig.tight_layout()\n",
    "\n",
    "plt.show()\n",
    "\n",
    "\n"
   ]
  },
  {
   "cell_type": "code",
   "execution_count": null,
   "metadata": {},
   "outputs": [],
   "source": [
    "!ls"
   ]
  },
  {
   "cell_type": "code",
   "execution_count": null,
   "metadata": {
    "collapsed": true
   },
   "outputs": [],
   "source": [
    "from IPython.display import display, Audio\n",
    "\n",
    "m = Media.objects.last()\n",
    "display(m.master.path)\n",
    "\n",
    "Audio(filename=m.master.path)"
   ]
  }
 ],
 "metadata": {
  "kernelspec": {
   "display_name": "Django Shell-Plus",
   "language": "python",
   "name": "django_extensions"
  },
  "language_info": {
   "codemirror_mode": {
    "name": "ipython",
    "version": 2
   },
   "file_extension": ".py",
   "mimetype": "text/x-python",
   "name": "python",
   "nbconvert_exporter": "python",
   "pygments_lexer": "ipython2",
   "version": "2.7.3"
  }
 },
 "nbformat": 4,
 "nbformat_minor": 2
}
