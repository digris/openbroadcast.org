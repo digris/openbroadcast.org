{
 "cells": [
  {
   "cell_type": "code",
   "execution_count": null,
   "metadata": {},
   "outputs": [],
   "source": [
    "import requests\n",
    "\n",
    "url = 'http://10.35.30.231:9200/releases/_search'\n",
    "\n",
    "payload = {\n",
    "    \"aggs\": {\n",
    "        \"duplicates\": {\n",
    "            \"terms\": {\n",
    "                \"script\": \"doc['name.raw'].value + ' ' + doc['artist_display.raw'].value\",\n",
    "                \"size\": 10000,\n",
    "                \"min_doc_count\": 2\n",
    "            },\n",
    "            \"aggs\": {\n",
    "                \"duplicates\": {\n",
    "                    \"top_hits\": {\n",
    "                        \"_source\": {\n",
    "                            \"includes\": [\n",
    "                                \"id\",\n",
    "                                \"name\",\n",
    "                                \"artist_display\"\n",
    "                            ]\n",
    "                        },\n",
    "                        \"size\": 20\n",
    "                    }\n",
    "                }\n",
    "            }\n",
    "        }\n",
    "    }\n",
    "}\n",
    "\n",
    "\n",
    "r = requests.post(url, json=payload)\n",
    "\n",
    "data = r.json()\n",
    "\n",
    "limit_ids = []\n",
    "\n",
    "for entry in data['aggregations']['duplicates']['buckets']:\n",
    "    #print(entry['key'])\n",
    "    #print(entry['doc_count'])\n",
    "    for hit in entry['duplicates']['hits']['hits']:\n",
    "        #print(hit['_id'])\n",
    "        #print(hit['_source'])\n",
    "        limit_ids.append(int(hit['_id']))\n",
    "        \n",
    "        \n",
    "\n",
    "print(len(limit_ids))\n",
    "\n"
   ]
  },
  {
   "cell_type": "code",
   "execution_count": null,
   "metadata": {},
   "outputs": [],
   "source": [
    "limit_ids\n"
   ]
  },
  {
   "cell_type": "code",
   "execution_count": null,
   "metadata": {},
   "outputs": [],
   "source": [
    "[i for i in Release.objects.values_list('id', flat=True)]"
   ]
  },
  {
   "cell_type": "code",
   "execution_count": 65,
   "metadata": {},
   "outputs": [
    {
     "name": "stdout",
     "output_type": "stream",
     "text": [
      "[<CollectionItem: <Release> The Album of the Soundtrack of the Trailer of the Film of Monty Python and the Holy Grail: Executive Version>, <CollectionItem: <Release> The Ultimate Monty Python Rip Off>, <CollectionItem: <Release> Monty Python Sings>, <CollectionItem: <Release> Monty Python's Contractual Obligation Album>, <CollectionItem: <Release> Flash>, <CollectionItem: <Release> Wild Thing>, <CollectionItem: <Release> Beckology>, <CollectionItem: <Release> Another Monty Python CD>, <CollectionItem: <Release> Monty Python's Previous Record>, <CollectionItem: <Release> Monty Python Live at Drury Lane>, <CollectionItem: <Release> Dice>, <CollectionItem: <Release> The Instant Monty Python CD Collection>, <CollectionItem: <Release> Give Me Convenience or Give Me Death>, <CollectionItem: <Release> Monty Python's Life of Brian>, <CollectionItem: <Release> Fresh Fruit for Rotting Vegetables>, <CollectionItem: <Release> George & James>, <CollectionItem: <Release> Monty Python's Flying Circus>, <CollectionItem: <Release> In the Flat Field>, <CollectionItem: <Release> New York City, NY 11.11.05>, <CollectionItem: <Release> Fear and Loathing in Las Vegas>, '...(remaining elements truncated)...']\n"
     ]
    }
   ],
   "source": [
    "c = Collection.objects.get(pk=2)\n",
    "\n",
    "print(c.items.filter(content_type__id=108))\n",
    "\n",
    "#for ct in ContentType.objects.all():\n",
    "#    print(ct, ct.pk)\n"
   ]
  }
 ],
 "metadata": {
  "kernelspec": {
   "display_name": "Django Shell-Plus",
   "language": "python",
   "name": "django_extensions"
  },
  "language_info": {
   "codemirror_mode": {
    "name": "ipython",
    "version": 2
   },
   "file_extension": ".py",
   "mimetype": "text/x-python",
   "name": "python",
   "nbconvert_exporter": "python",
   "pygments_lexer": "ipython2",
   "version": "2.7.10"
  }
 },
 "nbformat": 4,
 "nbformat_minor": 2
}
